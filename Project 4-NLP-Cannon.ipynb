{
 "cells": [
  {
   "cell_type": "markdown",
   "metadata": {},
   "source": [
    "# Project 4: Web Scraping Job Postings\n",
    "----\n",
    "### Business Case Overview\n",
    "\n",
    "You're working as a data scientist for a contracting firm that's rapidly expanding. Now that they have their most valuable employee (you!), they need to leverage data to win more contracts. Your firm offers technology and scientific solutions and wants to be competitive in the hiring market. Your principal has two main objectives:\n",
    "\n",
    "**Determine the industry factors that are most important in predicting the salary amounts for these data.**\n",
    "\n",
    "**Determine the factors that distinguish job categories and titles from each other. For example, can required skills accurately predict job title?**\n",
    "\n",
    "To limit the scope, your principal has suggested that you focus on data-related job postings, e.g. data scientist, data analyst, research scientist, business intelligence, and any others you might think of. You may also want to decrease the scope by limiting your search to a single region.\n",
    "\n",
    "Hint: Aggregators like Indeed.com regularly pool job postings from a variety of markets and industries.\n",
    "\n",
    "----\n",
    "**Goal:** Scrape your own data from a job aggregation tool like Indeed.com in order to collect the data to best answer these two questions.\n",
    "\n",
    "**Directions**\n",
    "In this project you will be leveraging a variety of skills. The first will be to use the web-scraping and/or API techniques you've learned to collect data on data jobs from Indeed.com or another aggregator. Once you have collected and cleaned the data, you will use it to answer the two questions described above.\n",
    "\n",
    "---"
   ]
  },
  {
   "cell_type": "code",
   "execution_count": 1,
   "metadata": {},
   "outputs": [
    {
     "name": "stderr",
     "output_type": "stream",
     "text": [
      "[nltk_data] Downloading package wordnet to\n",
      "[nltk_data]     /Users/hilmijohari/nltk_data...\n",
      "[nltk_data]   Package wordnet is already up-to-date!\n"
     ]
    }
   ],
   "source": [
    "# Packages\n",
    "import pandas as pd\n",
    "import numpy as np\n",
    "import seaborn as sns\n",
    "import matplotlib.pyplot as plt\n",
    "\n",
    "from bs4 import BeautifulSoup as Soup\n",
    "from scrapy.selector import Selector\n",
    "from scrapy.http import HtmlResponse\n",
    "from selenium import webdriver\n",
    "from selenium.webdriver.chrome.options import Options\n",
    "\n",
    "\n",
    "from sklearn.model_selection import train_test_split\n",
    "from sklearn.feature_extraction.text import CountVectorizer, TfidfVectorizer\n",
    "from sklearn.linear_model import HuberRegressor\n",
    "from sklearn.model_selection import GridSearchCV\n",
    "from sklearn.model_selection import cross_val_score\n",
    "from sklearn.linear_model import LinearRegression\n",
    "from sklearn.ensemble import RandomForestClassifier\n",
    "from sklearn.model_selection import cross_val_score\n",
    "from sklearn.linear_model import HuberRegressor\n",
    "from sklearn.linear_model import Ridge, Lasso\n",
    "from sklearn.model_selection import KFold\n",
    "from sklearn.metrics import r2_score\n",
    "\n",
    "\n",
    "from imblearn.over_sampling import SMOTE\n",
    "from sklearn.neighbors import KNeighborsClassifier\n",
    "from sklearn.linear_model import LogisticRegression\n",
    "from sklearn.metrics import confusion_matrix\n",
    "from sklearn.ensemble import AdaBoostClassifier\n",
    "\n",
    "from scipy import stats\n",
    "from scipy.stats import skew\n",
    "\n",
    "import nltk\n",
    "from gensim import corpora, models, matutils\n",
    "nltk.download('stopwords')\n",
    "from nltk.corpus import stopwords\n",
    "nltk.download('wordnet')\n",
    "from nltk.stem import WordNetLemmatizer\n",
    "\n",
    "\n",
    "import urllib, requests, re\n",
    "from time import sleep\n",
    "\n",
    "pd.set_option('max_colwidth',500)"
   ]
  },
  {
   "cell_type": "markdown",
   "metadata": {},
   "source": [
    "## Strategy\n",
    "--------------\n",
    "**Objective : Build a model using mycareersfuture information that predicts job salary**\n",
    "\n",
    "### Method: \n",
    "- **Scrape mycareersfuture titles, jobs descriptions, company names and salaries** (performed using scrapy - selector (this method worked best with mycareersfuture.com))\n",
    "\n",
    "- **Scrape indeed.com titles, jobs descriptions, company names and salaries** (performed using Beautiful soup - selenium (this method worked best with indeed.com))\n",
    "\n",
    "- **Perform data cleaning on both datasets**:\n",
    "    - Cleaning dataframe: \n",
    "        - Lowercase all characters,remove non characters (text) and symbols (dollar values)\n",
    "        - Remove jobs that do not meet criteria (i.e job has no description, title, company, or salary)\n",
    "        \n",
    "    - Extract job seniority (using keywords)\n",
    "   \n",
    "    - Group job titles by job type (using keywords)\n",
    "    \n",
    "    - Cleaning Job Salaries \n",
    "        - remove jobs with no salaries\n",
    "        - Convert to numerical values, average salaries to new column\n",
    "        - Transform salaries as monthly salaries\n",
    "        - verify transformations\n",
    "        - Rectify skew of salaries (log salary values)\n",
    "\n",
    "\n",
    "- **NLP text transformation**\n",
    "    - Generate stop words list (english stop words + common description words)\n",
    "    - Perform 1) PorterStemmer or 2) WordNetLemmatizer (new columns)\n",
    "    - Perform CountVectorizer + Tfif Transformer (TfidVectorizer) on descriptions, job title & companies\n",
    "    - Dummify the job seniority\n",
    "    - Make new dataframe with the transformed data\n",
    "    \n",
    "    \n",
    "- **Exploratory Data Analysis**\n",
    "    - Salaries according to Job Title\n",
    "    - Salaries according to Seniority\n",
    "    - PCA to visualize distribution of dataset.  \n",
    "    \n",
    "    \n",
    "- **Model Selection for Linear Regression**\n",
    "    - Base Model: LinearRegression\n",
    "    - Regularization Models: Ridge, Lasso\n",
    "    - Robust Models: HuberRegressor\n",
    "   \n",
    "\n",
    "- **Validate model using mycareersfuture test set**\n",
    "    - Identify features with high coefs (positive and negative)\n",
    "    \n",
    "    \n",
    "- **Predict salaries for indeed.com jobs**\n",
    "    - Compare average salaries mycareersfuture by seniority/ job type versus predicted at indeed.com\n",
    "    - Compare similar job at mycareersfuture versus indeed.com\n"
   ]
  },
  {
   "cell_type": "markdown",
   "metadata": {},
   "source": [
    "**Scraping MyCareersFuture with Scrapy - Gathering Job Title, Company, Job Description & Salary**"
   ]
  },
  {
   "cell_type": "code",
   "execution_count": 2,
   "metadata": {},
   "outputs": [
    {
     "name": "stdout",
     "output_type": "stream",
     "text": [
      "Number of pages completed: 0\n",
      "Number of pages completed: 10\n",
      "Number of pages completed: 20\n",
      "Number of pages completed: 30\n",
      "Number of pages completed: 40\n",
      "Number of pages completed: 50\n",
      "Number of pages completed: 60\n",
      "Number of pages completed: 70\n",
      "Number of pages completed: 80\n",
      "Number of pages completed: 90\n",
      "Number of pages completed: 100\n",
      "Number of pages completed: 110\n",
      "Number of pages completed: 120\n",
      "Number of pages completed: 130\n",
      "Number of pages completed: 140\n",
      "Number of pages completed: 150\n",
      "Number of pages completed: 160\n",
      "Number of pages completed: 170\n",
      "Number of pages completed: 180\n",
      "Number of pages completed: 190\n",
      "Number of pages completed: 200\n",
      "Number of pages completed: 210\n",
      "Number of pages completed: 220\n",
      "Number of pages completed: 230\n",
      "Number of pages completed: 240\n",
      "Number of pages completed: 250\n",
      "Number of pages completed: 260\n",
      "Number of pages completed: 270\n",
      "Number of pages completed: 280\n",
      "Number of pages completed: 290\n",
      "Number of links gatherered: 4162\n"
     ]
    }
   ],
   "source": [
    "chrome_options = Options()\n",
    "chrome_options.add_argument(\"--headless\")\n",
    "chromedriver = \"./chromedriver_win32/chromedriver.exe\"\n",
    "\n",
    "\n",
    "def get_links(site):\n",
    "    for num in range(0,300):\n",
    "        driver = webdriver.Chrome(chromedriver, options = chrome_options)\n",
    "        page = driver.get(site.format(num))\n",
    "        sleep(3)\n",
    "        html = driver.page_source\n",
    "        for x in range (0,19):\n",
    "            for a in driver.find_elements_by_xpath('//*[@id=\"job-card-{}\"]/div/a'.format(x)):\n",
    "                links_mcf.append(a.get_attribute('href'))\n",
    "\n",
    "        if num % 10 == 0:\n",
    "            print('Number of pages completed: {}'.format(num))\n",
    "    \n",
    "links_mcf = []\n",
    "\n",
    "get_links('https://www.mycareersfuture.sg/search?search=data&postingCompany=Direct&sortBy=new_posting_date&page={}')\n",
    "\n",
    "links_mcf= [link for link in set(links_mcf)]\n",
    "print('Number of links gatherered: {}'. format(len(links_mcf)))"
   ]
  },
  {
   "cell_type": "code",
   "execution_count": null,
   "metadata": {},
   "outputs": [],
   "source": [
    "# links to csv\n",
    "df_links_mcf = pd.DataFrame(links_mcf, columns = ['links'])\n",
    "df_links_mcf.to_csv('links_mcf.csv')"
   ]
  },
  {
   "cell_type": "code",
   "execution_count": 10,
   "metadata": {},
   "outputs": [
    {
     "data": {
      "text/html": [
       "<div>\n",
       "<style scoped>\n",
       "    .dataframe tbody tr th:only-of-type {\n",
       "        vertical-align: middle;\n",
       "    }\n",
       "\n",
       "    .dataframe tbody tr th {\n",
       "        vertical-align: top;\n",
       "    }\n",
       "\n",
       "    .dataframe thead th {\n",
       "        text-align: right;\n",
       "    }\n",
       "</style>\n",
       "<table border=\"1\" class=\"dataframe\">\n",
       "  <thead>\n",
       "    <tr style=\"text-align: right;\">\n",
       "      <th></th>\n",
       "      <th>links</th>\n",
       "    </tr>\n",
       "  </thead>\n",
       "  <tbody>\n",
       "    <tr>\n",
       "      <th>0</th>\n",
       "      <td>https://www.mycareersfuture.sg/job/lead-engineer-propertyguru-4b8c7eb3813b949162103ee68453a9a4</td>\n",
       "    </tr>\n",
       "    <tr>\n",
       "      <th>1</th>\n",
       "      <td>https://www.mycareersfuture.sg/job/junior-senior-rd-thermal-engineer-lite-on-singapore-bb69b9cc580695833d5081df5becc05c</td>\n",
       "    </tr>\n",
       "    <tr>\n",
       "      <th>2</th>\n",
       "      <td>https://www.mycareersfuture.sg/job/senior-strategist-tbwa-singapore-5557babe04dbb5c96e438180094d1ffc</td>\n",
       "    </tr>\n",
       "    <tr>\n",
       "      <th>3</th>\n",
       "      <td>https://www.mycareersfuture.sg/job/actuarial-assistant-c3e1aedd1924306509f1e767d2380217</td>\n",
       "    </tr>\n",
       "    <tr>\n",
       "      <th>4</th>\n",
       "      <td>https://www.mycareersfuture.sg/job/lead-document-controller-tuff-offshore-engineering-services-5d59e8421a002101dc541ab002dcba1c</td>\n",
       "    </tr>\n",
       "  </tbody>\n",
       "</table>\n",
       "</div>"
      ],
      "text/plain": [
       "                                                                                                                             links\n",
       "0                                   https://www.mycareersfuture.sg/job/lead-engineer-propertyguru-4b8c7eb3813b949162103ee68453a9a4\n",
       "1          https://www.mycareersfuture.sg/job/junior-senior-rd-thermal-engineer-lite-on-singapore-bb69b9cc580695833d5081df5becc05c\n",
       "2                             https://www.mycareersfuture.sg/job/senior-strategist-tbwa-singapore-5557babe04dbb5c96e438180094d1ffc\n",
       "3                                          https://www.mycareersfuture.sg/job/actuarial-assistant-c3e1aedd1924306509f1e767d2380217\n",
       "4  https://www.mycareersfuture.sg/job/lead-document-controller-tuff-offshore-engineering-services-5d59e8421a002101dc541ab002dcba1c"
      ]
     },
     "execution_count": 10,
     "metadata": {},
     "output_type": "execute_result"
    }
   ],
   "source": [
    "df_links_mcf.head()"
   ]
  },
  {
   "cell_type": "code",
   "execution_count": 12,
   "metadata": {},
   "outputs": [
    {
     "name": "stdout",
     "output_type": "stream",
     "text": [
      "Number of Job links parsed: 100\n",
      "Number of Job links parsed: 200\n",
      "Number of Job links parsed: 300\n",
      "Number of Job links parsed: 400\n",
      "Number of Job links parsed: 500\n",
      "Number of Job links parsed: 600\n",
      "Number of Job links parsed: 700\n",
      "Number of Job links parsed: 800\n",
      "Number of Job links parsed: 900\n",
      "Number of Job links parsed: 1000\n",
      "Number of Job links parsed: 1100\n",
      "Number of Job links parsed: 1200\n",
      "Number of Job links parsed: 1300\n",
      "Number of Job links parsed: 1400\n",
      "Number of Job links parsed: 1500\n",
      "Number of Job links parsed: 1600\n",
      "Number of Job links parsed: 1700\n",
      "Number of Job links parsed: 1800\n",
      "Number of Job links parsed: 1900\n",
      "Number of Job links parsed: 2000\n"
     ]
    }
   ],
   "source": [
    "def parsing_links(links_mcf): \n",
    "    for link in links_mcf:\n",
    "        driver = webdriver.Chrome(chromedriver, options = chrome_options)\n",
    "        driver.get(link)\n",
    "        sleep(3)\n",
    "        html = driver.page_source\n",
    "\n",
    "        job_title = Selector(text = html).xpath('//h1[@id = \"job_title\"]//text()').extract()\n",
    "        if len(job_title) == 0:    \n",
    "            job_titles.append('None')\n",
    "        else:\n",
    "            job_titles.append(job_title[0])\n",
    "        \n",
    "# Name of hiring company:\n",
    "        company = Selector(text = html).xpath('//p[@name = \"company\"]//text()').extract()\n",
    "        if len(company) == 0:    \n",
    "            companies.append('None')\n",
    "        else:\n",
    "            companies.append(company[0])\n",
    "    \n",
    "# Minimum and maximum salaries\n",
    "        salary = Selector(text = html).xpath('//span[@class = \"dib\"]//text()').extract()\n",
    "        if len(salary) == 0:\n",
    "            min_salaries.append('None')\n",
    "            max_salaries.append('None')\n",
    "        else: \n",
    "            min_salaries.append(salary[0])\n",
    "            max_salaries.append(salary[2])\n",
    "\n",
    "\n",
    "# Full Job description\n",
    "        description = Selector(text=html).xpath('//div[@class =\"jobDescription w-100 v-top relative\"]//text()').extract()\n",
    "        if len(description) == 0:\n",
    "            descriptions.append('None')\n",
    "        else:\n",
    "            descriptions.append((str.join(' ', description)))            \n",
    "        \n",
    "        if len(descriptions) % 100 == 0:\n",
    "            print('Number of Job links parsed: {}'.format(len(descriptions)))\n",
    "\n",
    "job_titles = []\n",
    "companies = []\n",
    "min_salaries = []\n",
    "max_salaries = []\n",
    "descriptions = []\n",
    "\n",
    "parsing_links(links_mcf[0:2000]) "
   ]
  },
  {
   "cell_type": "code",
   "execution_count": 20,
   "metadata": {},
   "outputs": [],
   "source": [
    "# Add collected information to a dataframe\n",
    "df_mcf = pd.DataFrame(np.column_stack([job_titles, descriptions, companies, min_salaries, max_salaries]), \n",
    "                               columns=['job_titles','descriptions', 'companies', 'min_salaries', 'max_salaries'])"
   ]
  },
  {
   "cell_type": "code",
   "execution_count": 21,
   "metadata": {},
   "outputs": [],
   "source": [
    "# Store into a CSV file.\n",
    "df_mcf.to_csv('data_mcf.csv', index=False)"
   ]
  },
  {
   "cell_type": "code",
   "execution_count": 2,
   "metadata": {},
   "outputs": [],
   "source": [
    "df_mcf = pd.read_csv('./data_mcf.csv')"
   ]
  },
  {
   "cell_type": "code",
   "execution_count": 3,
   "metadata": {},
   "outputs": [
    {
     "name": "stdout",
     "output_type": "stream",
     "text": [
      "Number of entries without cleaning: 2000\n",
      "Number of entries with cleaning: 1576\n"
     ]
    }
   ],
   "source": [
    "#With duplicates\n",
    "print('Number of entries without cleaning: {}'.format(df_mcf.shape[0]))\n",
    "df_mcf['job_titles'].unique()\n",
    "\n",
    "#Cleaning DataSet\n",
    "# 1 drop duplicates\n",
    "df_mcf = df_mcf.drop_duplicates(inplace=False)\n",
    "df_mcf = df_mcf[df_mcf['min_salaries'] != 'None']\n",
    "df_mcf = df_mcf[df_mcf['max_salaries'] != 'None']\n",
    "print('Number of entries with cleaning: {}'.format(df_mcf.shape[0]))"
   ]
  },
  {
   "cell_type": "markdown",
   "metadata": {},
   "source": [
    "**Scraping Indeed.com with Beautiful Soup - Gathering Job Title, Company, Job Description & Salary**"
   ]
  },
  {
   "cell_type": "code",
   "execution_count": 49,
   "metadata": {},
   "outputs": [
    {
     "name": "stdout",
     "output_type": "stream",
     "text": [
      "Number of pages completed: 20\n",
      "Number of links gatherered: 1031\n"
     ]
    }
   ],
   "source": [
    "def get_links_indeed(site):\n",
    "    for i in range(1, 21):\n",
    "        num = (i-1) * 50\n",
    "        base_url = site.format(num)\n",
    "        page = requests.get(base_url)\n",
    "        soup = Soup(page.text, 'lxml')\n",
    "    \n",
    "        jobs = soup.find_all('div', {'class':'row'})\n",
    "        \n",
    "        for div in jobs:\n",
    "            link = div.find('div', {'class': 'title'})\n",
    "            p_url = link.a.get('href')\n",
    "            links_in.append('https://ca.indeed.com' + p_url)\n",
    "            \n",
    "    #Page Counter\n",
    "    print('Number of pages completed: {}'.format(i))\n",
    "\n",
    "links_in = []            \n",
    "get_links_indeed('https://www.indeed.com.sg/jobs?q=data+(scientist+or+analyst+or+analytics+or+machine+or+learning+or+deep+or+learning+or+business+or+intelligence)+-marketing&l=Singapore&limit=50&sr=directhire&st=employer&radius=10&start={}')\n",
    "\n",
    "\n",
    "links_in = [link for link in set(links_in)]\n",
    "print('Number of links gatherered: {}'. format(len(links_in)))"
   ]
  },
  {
   "cell_type": "code",
   "execution_count": 50,
   "metadata": {},
   "outputs": [],
   "source": [
    "linkin = pd.DataFrame(links_in, columns = ['links'])\n",
    "linkin.to_csv('linkin.csv')"
   ]
  },
  {
   "cell_type": "code",
   "execution_count": 2,
   "metadata": {},
   "outputs": [],
   "source": [
    "linkin = pd.read_csv('linkin.csv')\n",
    "links_in = list(linkin['links'])"
   ]
  },
  {
   "cell_type": "code",
   "execution_count": 4,
   "metadata": {},
   "outputs": [
    {
     "name": "stdout",
     "output_type": "stream",
     "text": [
      "Number of Job links parsed: 100\n",
      "Number of Job links parsed: 200\n",
      "Number of Job links parsed: 300\n",
      "Number of Job links parsed: 400\n",
      "Number of Job links parsed: 500\n",
      "Number of Job links parsed: 600\n",
      "Number of Job links parsed: 700\n",
      "Number of Job links parsed: 800\n",
      "Number of Job links parsed: 900\n",
      "Number of Job links parsed: 1000\n"
     ]
    }
   ],
   "source": [
    "def indeed_parsing(links):\n",
    "    for link in links:\n",
    "        sleep(5)\n",
    "        url = link\n",
    "        page = requests.get(url)\n",
    "        if page.status_code == 200:\n",
    "            soup = Soup(page.text, 'lxml')\n",
    "            jobs = soup.find_all('div', {'class':'jobsearch-JobComponent icl-u-xs-mt--sm'})\n",
    "            for div in jobs:\n",
    "        \n",
    "                for job_title in div.find_all('h3' , {'class' : 'icl-u-xs-mb--xs icl-u-xs-mt--none jobsearch-JobInfoHeader-title'}):\n",
    "                    titles_in.append(job_title.text)\n",
    "            \n",
    "                for info in div.find_all('div', {'class' : 'jobsearch-jobDescriptionText'}):\n",
    "                    descriptions_in.append(info.text)\n",
    "            \n",
    "                for comp in div.find_all('div', {'class' : 'icl-u-lg-mr--sm icl-u-xs-mr--xs'}):\n",
    "                    if comp.text != '-':\n",
    "                        companies_in.append(comp.text)\n",
    "                \n",
    "                x = div.find_all('span', {'class' : 'jobsearch-JobMetadataHeader-iconLabel'})\n",
    "                try: \n",
    "                    salaries_in.append(x.text)\n",
    "                except:\n",
    "                    salaries_in.append('None')\n",
    "            \n",
    "                # Link counter\n",
    "                if len(descriptions_in) % 100 == 0:\n",
    "                    print('Number of Job links parsed: {}'.format(len(descriptions_in)))\n",
    "        else: \n",
    "            pass\n",
    "    \n",
    "titles_in = []\n",
    "companies_in = []\n",
    "descriptions_in = []\n",
    "salaries_in = []\n",
    "\n",
    "indeed_parsing(links_in)   "
   ]
  },
  {
   "cell_type": "code",
   "execution_count": 4,
   "metadata": {},
   "outputs": [],
   "source": [
    "#Place into a DataFrame\n",
    "df = pd.DataFrame(np.column_stack([titles_in, descriptions_in, companies_in,salaries_in]), \n",
    "                               columns=['job_titles','descriptions', 'companies', 'salaries'])\n",
    "\n",
    "# Store into a CSV file.\n",
    "df.to_csv('data.csv', index=False)\n"
   ]
  },
  {
   "cell_type": "code",
   "execution_count": 4,
   "metadata": {},
   "outputs": [],
   "source": [
    "df = pd.read_csv('./data.csv')"
   ]
  },
  {
   "cell_type": "code",
   "execution_count": 5,
   "metadata": {},
   "outputs": [
    {
     "name": "stdout",
     "output_type": "stream",
     "text": [
      "Number of entries without cleaning: 1027\n",
      "Number of entries with cleaning: 913\n"
     ]
    }
   ],
   "source": [
    "#With duplicates\n",
    "print('Number of entries without cleaning: {}'.format(df.shape[0]))\n",
    "df['job_titles'].unique()\n",
    "\n",
    "#Cleaning DataSet\n",
    "# 1 drop duplicates\n",
    "df = df.drop_duplicates(inplace=False)\n",
    "print('Number of entries with cleaning: {}'.format(df.shape[0]))"
   ]
  },
  {
   "cell_type": "markdown",
   "metadata": {},
   "source": [
    "### Question 1: Factors that impact salary\n",
    "To predict salary you will be building either a classification or regression model, using features like the location, title, and summary of the job. If framing this as a regression problem, you will be estimating the listed salary amounts. You may instead choose to frame this as a classification problem, in which case you will create labels from these salaries (high vs. low salary, for example) according to thresholds (such as median salary).\n",
    "\n",
    "You have learned a variety of new skills and models that may be useful for this problem:\n",
    "\n",
    "NLP\n",
    "Unsupervised learning and dimensionality reduction techniques (PCA, clustering)\n",
    "Ensemble methods and decision tree models\n",
    "SVM models\n",
    "Whatever you decide to use, the most important thing is to justify your choices and interpret your results. Communication of your process is key. Note that most listings DO NOT come with salary information. You'll need to able to extrapolate or predict the expected salaries for these listings.\n",
    "\n",
    "---"
   ]
  },
  {
   "cell_type": "markdown",
   "metadata": {},
   "source": [
    "**Cleaning DataFrame**\n",
    "---"
   ]
  },
  {
   "cell_type": "code",
   "execution_count": 6,
   "metadata": {},
   "outputs": [],
   "source": [
    "def cleaning_df(dataframe):\n",
    "    \n",
    "    for column_name in dataframe:\n",
    "    #all dataframe to lowercase\n",
    "        dataframe[column_name] = dataframe[column_name].apply(lambda x : x.lower())\n",
    "    \n",
    "    # Removing all characters that are not alphabethical in the description, title and company.\n",
    "        if (column_name != 'min_salaries') and (column_name != 'max_salaries'):\n",
    "            dataframe[column_name] =  dataframe[column_name].apply(lambda x : re.sub(r'[^a-zA-Z]', \" \", x))\n",
    "    \n",
    "    # Removing all characters that are not numbers in the salary.       \n",
    "        if (column_name == 'min_salaries') or (column_name == 'max_salaries'):\n",
    "            dataframe[column_name] =  dataframe[column_name].apply(lambda x : re.sub(r'[^\\d.]', '', x))\n",
    "\n",
    "        \n",
    "    dataframe.replace(to_replace='None',value = np.nan, inplace = True) \n",
    "    \n",
    "    dataframe.dropna(axis = 0, inplace = True)\n",
    "\n",
    "cleaning_df(df_mcf)\n",
    "cleaning_df(df)"
   ]
  },
  {
   "cell_type": "markdown",
   "metadata": {},
   "source": [
    "**Job Seniority Extraction**\n",
    "---"
   ]
  },
  {
   "cell_type": "code",
   "execution_count": 7,
   "metadata": {},
   "outputs": [],
   "source": [
    "intern_kw = ['internship', 'intern']\n",
    "manager = ['lead', 'senior','manager', 'sr', 'mgr']\n",
    "officer = ['technician', 'officer','assistant']\n",
    "junior = ['junior', 'graduate']\n",
    "top = ['head', 'avp', 'partner', 'director', 'vp', 'coo' ]"
   ]
  },
  {
   "cell_type": "code",
   "execution_count": 8,
   "metadata": {},
   "outputs": [
    {
     "name": "stdout",
     "output_type": "stream",
     "text": [
      "Jobs by seniority Indeed.com executive         445\n",
      "senior_manager    316\n",
      "intern             61\n",
      "officer            46\n",
      "c_level            32\n",
      "junior             13\n",
      "Name: seniority, dtype: int64\n",
      "Jobs by seniority MyCareersFuture executive         833\n",
      "senior_manager    487\n",
      "officer           161\n",
      "c_level            75\n",
      "junior             17\n",
      "intern              3\n",
      "Name: seniority, dtype: int64\n"
     ]
    }
   ],
   "source": [
    "def job_seniority(x): \n",
    "        \n",
    "    #Managers\n",
    "    for m in manager:\n",
    "        if x.__contains__(m) == True:\n",
    "            return 'senior_manager'  \n",
    "        \n",
    "    #Academics \n",
    "    for o in officer :\n",
    "        if x.__contains__(o) == True:\n",
    "            return 'officer'\n",
    "        \n",
    "    # Top\n",
    "    for t in top:\n",
    "        if x.__contains__(t) == True:\n",
    "            return 'c_level'\n",
    "        \n",
    "    for j in junior:\n",
    "        if x.__contains__(j) == True:\n",
    "            return 'junior'\n",
    "        \n",
    "    # Internships\n",
    "    for i in intern_kw:\n",
    "        if x.__contains__(i) == True:\n",
    "            return 'intern'\n",
    "\n",
    "    else:\n",
    "        return 'executive'\n",
    "\n",
    "df['seniority'] = df['job_titles'].apply(job_seniority)\n",
    "df_mcf['seniority'] = df_mcf['job_titles'].apply(job_seniority)\n",
    "\n",
    "#manual corrections:\n",
    "df_mcf.loc[719, 'seniority'] = 'executive'\n",
    "\n",
    "print('Jobs by seniority Indeed.com {}'.format(df['seniority'].value_counts()))\n",
    "print('Jobs by seniority MyCareersFuture {}'.format(df_mcf['seniority'].value_counts()))"
   ]
  },
  {
   "cell_type": "markdown",
   "metadata": {},
   "source": [
    "**Grouping Job Titles By Type**\n",
    "---"
   ]
  },
  {
   "cell_type": "code",
   "execution_count": 9,
   "metadata": {},
   "outputs": [],
   "source": [
    "# Lists of Keywords to sort jobs into groups\n",
    "data_kw = ['data', 'analytics','analyst', 'machine', 'scientist', 'science']\n",
    "business_kw = ['operations', 'business','operation','strategy', 'consultant','consulting', 'strategist']\n",
    "academic_kw =['student', 'scientist', 'graduate', 'lecturer', 'research', 'chemist', 'chemical', 'learning', 'college', 'instructor', 'education', 'fellow']\n",
    "financial_kw = ['banking', 'wealth', 'financial', 'sales', 'risk', 'finance', 'payments', 'investments','investment', 'payroll', 'accountant', 'actuarial', 'credit', 'transaction', 'e-billing', 'giro', 'sales']\n",
    "admin_kw = ['administrative', 'assistant', 'admin', 'human', 'hr', 'customer', 'talent', 'client', 'recruitment', 'recruiting', 'recruiter', 'product']\n",
    "management_kw = ['project', 'manager', 'management', 'mgr', 'supply chain']\n",
    "other_tech_kw = ['software', 'developer', 'ui/ux', 'tech', 'technology', 'technologies', 'technological', 'engineering', 'engineer', 'it', 'digital']"
   ]
  },
  {
   "cell_type": "code",
   "execution_count": 10,
   "metadata": {},
   "outputs": [
    {
     "name": "stdout",
     "output_type": "stream",
     "text": [
      "Jobs by categories Indeed.com data_job             393\n",
      "BA_&_consultant      118\n",
      "administration        96\n",
      "unclassified          92\n",
      "other_tech_career     77\n",
      "academics             58\n",
      "finances              47\n",
      "management            32\n",
      "Name: title_short, dtype: int64\n",
      "Jobs by categories MyCareersFuture data_job             326\n",
      "other_tech_career    321\n",
      "administration       216\n",
      "unclassified         201\n",
      "management           156\n",
      "BA_&_consultant      147\n",
      "finances             111\n",
      "academics             98\n",
      "Name: title_short, dtype: int64\n"
     ]
    }
   ],
   "source": [
    "def title_summary(x):\n",
    "    # Data analytics\n",
    "    for da_terms in data_kw:\n",
    "        if x.__contains__(da_terms) == True:\n",
    "            return 'data_job' \n",
    "        \n",
    "    #business analyst\n",
    "    for bus_term in business_kw:\n",
    "        if x.__contains__(bus_term) == True:\n",
    "            return 'BA_&_consultant'  \n",
    "        \n",
    "    #Academics \n",
    "    for ac_terms in academic_kw :\n",
    "        if x.__contains__(ac_terms) == True:\n",
    "            return 'academics'\n",
    "\n",
    "    # Financial\n",
    "    for fin_term in financial_kw :\n",
    "        if x.__contains__(fin_term) == True:\n",
    "            return 'finances'\n",
    "        \n",
    "    # Assistant\n",
    "    for adm in admin_kw:\n",
    "        if x.__contains__(adm) == True:\n",
    "            return 'administration'\n",
    "        \n",
    "    #Management\n",
    "    for man_term in management_kw:\n",
    "        if x.__contains__(man_term) == True:\n",
    "            return 'management'\n",
    "        \n",
    "    #Other technological careers\n",
    "    for tech_term in other_tech_kw:\n",
    "        if x.__contains__(tech_term) == True:\n",
    "            return 'other_tech_career'  \n",
    " \n",
    "    else:\n",
    "        return 'unclassified'\n",
    "\n",
    "df['title_short'] = df['job_titles'].apply(title_summary)\n",
    "df_mcf['title_short'] = df_mcf['job_titles'].apply(title_summary)\n",
    "\n",
    "print('Jobs by categories Indeed.com {}'.format(df['title_short'].value_counts()))\n",
    "print('Jobs by categories MyCareersFuture {}'.format(df_mcf['title_short'].value_counts()))"
   ]
  },
  {
   "cell_type": "markdown",
   "metadata": {},
   "source": [
    "**Cleaning Job Salaries**\n",
    "---"
   ]
  },
  {
   "cell_type": "code",
   "execution_count": 11,
   "metadata": {},
   "outputs": [],
   "source": [
    "# Remove none salaries\n",
    "df_mcf = df_mcf[df_mcf['min_salaries'] != '']"
   ]
  },
  {
   "cell_type": "code",
   "execution_count": 12,
   "metadata": {},
   "outputs": [],
   "source": [
    "df_mcf['min_salaries'] = pd.to_numeric(df_mcf['min_salaries'])\n",
    "df_mcf['max_salaries'] = pd.to_numeric(df_mcf['max_salaries'])"
   ]
  },
  {
   "cell_type": "code",
   "execution_count": 13,
   "metadata": {},
   "outputs": [],
   "source": [
    "# use value \n",
    "df_mcf['mean_salaries'] = df_mcf[['min_salaries','max_salaries']].mean(axis = 1)"
   ]
  },
  {
   "cell_type": "code",
   "execution_count": 14,
   "metadata": {},
   "outputs": [],
   "source": [
    "for row in df_mcf.index:\n",
    "    for sen in ['junior', 'officer', 'intern']:\n",
    "        if (df_mcf.loc[row,'seniority'] == sen) & (df_mcf.loc[row,'mean_salaries'] >= 10000):\n",
    "            df_mcf.loc[row,'mean_salaries'] = df_mcf.loc[row,'mean_salaries']/ 12\n",
    "            \n",
    "    if (df_mcf.loc[row,'seniority'] == 'executive') & (df_mcf.loc[row,'mean_salaries'] >= 20000):\n",
    "        df_mcf.loc[row,'mean_salaries'] = df_mcf.loc[row,'mean_salaries']/ 12\n",
    "    \n",
    "    for sen in ['c_level', 'senior_manager']:\n",
    "        if (df_mcf.loc[row,'seniority'] == sen) & (df_mcf.loc[row,'mean_salaries'] >= 50000):\n",
    "            df_mcf.loc[row,'mean_salaries'] = df_mcf.loc[row,'mean_salaries']/ 12"
   ]
  },
  {
   "cell_type": "code",
   "execution_count": 15,
   "metadata": {},
   "outputs": [
    {
     "data": {
      "text/html": [
       "<div>\n",
       "<style scoped>\n",
       "    .dataframe tbody tr th:only-of-type {\n",
       "        vertical-align: middle;\n",
       "    }\n",
       "\n",
       "    .dataframe tbody tr th {\n",
       "        vertical-align: top;\n",
       "    }\n",
       "\n",
       "    .dataframe thead th {\n",
       "        text-align: right;\n",
       "    }\n",
       "</style>\n",
       "<table border=\"1\" class=\"dataframe\">\n",
       "  <thead>\n",
       "    <tr style=\"text-align: right;\">\n",
       "      <th></th>\n",
       "      <th>min_salaries</th>\n",
       "      <th>max_salaries</th>\n",
       "      <th>mean_salaries</th>\n",
       "    </tr>\n",
       "    <tr>\n",
       "      <th>seniority</th>\n",
       "      <th></th>\n",
       "      <th></th>\n",
       "      <th></th>\n",
       "    </tr>\n",
       "  </thead>\n",
       "  <tbody>\n",
       "    <tr>\n",
       "      <th>c_level</th>\n",
       "      <td>15216.666667</td>\n",
       "      <td>23898.213333</td>\n",
       "      <td>10054.662222</td>\n",
       "    </tr>\n",
       "    <tr>\n",
       "      <th>executive</th>\n",
       "      <td>6357.198079</td>\n",
       "      <td>9968.986795</td>\n",
       "      <td>5350.239696</td>\n",
       "    </tr>\n",
       "    <tr>\n",
       "      <th>intern</th>\n",
       "      <td>1033.333333</td>\n",
       "      <td>1383.333333</td>\n",
       "      <td>1208.333333</td>\n",
       "    </tr>\n",
       "    <tr>\n",
       "      <th>junior</th>\n",
       "      <td>4788.235294</td>\n",
       "      <td>7623.529412</td>\n",
       "      <td>4588.235294</td>\n",
       "    </tr>\n",
       "    <tr>\n",
       "      <th>officer</th>\n",
       "      <td>2835.403727</td>\n",
       "      <td>4195.167702</td>\n",
       "      <td>2555.632505</td>\n",
       "    </tr>\n",
       "    <tr>\n",
       "      <th>senior_manager</th>\n",
       "      <td>7981.687885</td>\n",
       "      <td>12500.193018</td>\n",
       "      <td>7429.566136</td>\n",
       "    </tr>\n",
       "  </tbody>\n",
       "</table>\n",
       "</div>"
      ],
      "text/plain": [
       "                min_salaries  max_salaries  mean_salaries\n",
       "seniority                                                \n",
       "c_level         15216.666667  23898.213333   10054.662222\n",
       "executive        6357.198079   9968.986795    5350.239696\n",
       "intern           1033.333333   1383.333333    1208.333333\n",
       "junior           4788.235294   7623.529412    4588.235294\n",
       "officer          2835.403727   4195.167702    2555.632505\n",
       "senior_manager   7981.687885  12500.193018    7429.566136"
      ]
     },
     "execution_count": 15,
     "metadata": {},
     "output_type": "execute_result"
    }
   ],
   "source": [
    "df_mcf.groupby('seniority').mean()"
   ]
  },
  {
   "cell_type": "code",
   "execution_count": 16,
   "metadata": {},
   "outputs": [
    {
     "data": {
      "text/html": [
       "<div>\n",
       "<style scoped>\n",
       "    .dataframe tbody tr th:only-of-type {\n",
       "        vertical-align: middle;\n",
       "    }\n",
       "\n",
       "    .dataframe tbody tr th {\n",
       "        vertical-align: top;\n",
       "    }\n",
       "\n",
       "    .dataframe thead th {\n",
       "        text-align: right;\n",
       "    }\n",
       "</style>\n",
       "<table border=\"1\" class=\"dataframe\">\n",
       "  <thead>\n",
       "    <tr style=\"text-align: right;\">\n",
       "      <th></th>\n",
       "      <th>companies</th>\n",
       "      <th>job_titles</th>\n",
       "      <th>mean_salaries</th>\n",
       "    </tr>\n",
       "  </thead>\n",
       "  <tbody>\n",
       "    <tr>\n",
       "      <th>138</th>\n",
       "      <td>hubble pte  ltd</td>\n",
       "      <td>junior data scientist</td>\n",
       "      <td>5350.0</td>\n",
       "    </tr>\n",
       "    <tr>\n",
       "      <th>160</th>\n",
       "      <td>streetsine singapore pte  ltd</td>\n",
       "      <td>junior data analyst</td>\n",
       "      <td>4000.0</td>\n",
       "    </tr>\n",
       "    <tr>\n",
       "      <th>229</th>\n",
       "      <td>lucasfilm animation company singapore b v</td>\n",
       "      <td>junior creature td artist</td>\n",
       "      <td>4500.0</td>\n",
       "    </tr>\n",
       "    <tr>\n",
       "      <th>501</th>\n",
       "      <td>robert half international pte  ltd</td>\n",
       "      <td>md        jqd   junior qlikview developer</td>\n",
       "      <td>5500.0</td>\n",
       "    </tr>\n",
       "    <tr>\n",
       "      <th>552</th>\n",
       "      <td>tum create limited</td>\n",
       "      <td>junior computer vision engineer for deep learning applied to real world robotic system</td>\n",
       "      <td>4000.0</td>\n",
       "    </tr>\n",
       "    <tr>\n",
       "      <th>672</th>\n",
       "      <td>traveloka services pte  ltd</td>\n",
       "      <td>junior   mid level data engineer</td>\n",
       "      <td>4500.0</td>\n",
       "    </tr>\n",
       "    <tr>\n",
       "      <th>853</th>\n",
       "      <td>cartrack technologies south east asia pte  ltd</td>\n",
       "      <td>junior data scientist</td>\n",
       "      <td>7500.0</td>\n",
       "    </tr>\n",
       "    <tr>\n",
       "      <th>968</th>\n",
       "      <td>observational and pragmatic research institute pte  ltd</td>\n",
       "      <td>junior data analyst</td>\n",
       "      <td>3500.0</td>\n",
       "    </tr>\n",
       "    <tr>\n",
       "      <th>1158</th>\n",
       "      <td>ubisoft singapore pte  ltd</td>\n",
       "      <td>junior  d level artist</td>\n",
       "      <td>4750.0</td>\n",
       "    </tr>\n",
       "    <tr>\n",
       "      <th>1436</th>\n",
       "      <td>omron asia pacific pte ltd</td>\n",
       "      <td>junior it analyst  application support   ms sql</td>\n",
       "      <td>3150.0</td>\n",
       "    </tr>\n",
       "    <tr>\n",
       "      <th>1457</th>\n",
       "      <td>traveloka services pte  ltd</td>\n",
       "      <td>junior   mid level data analyst</td>\n",
       "      <td>4500.0</td>\n",
       "    </tr>\n",
       "    <tr>\n",
       "      <th>1484</th>\n",
       "      <td>mastercard asia pacific pte  ltd</td>\n",
       "      <td>associate analyst mastercard graduate development program</td>\n",
       "      <td>5500.0</td>\n",
       "    </tr>\n",
       "    <tr>\n",
       "      <th>1624</th>\n",
       "      <td>macgregor pte  ltd</td>\n",
       "      <td>junior     order fulfilment handler</td>\n",
       "      <td>3000.0</td>\n",
       "    </tr>\n",
       "    <tr>\n",
       "      <th>1710</th>\n",
       "      <td>the toronto dominion bank</td>\n",
       "      <td>graduate associate  operations</td>\n",
       "      <td>5500.0</td>\n",
       "    </tr>\n",
       "    <tr>\n",
       "      <th>1758</th>\n",
       "      <td>allegis group singapore private limited</td>\n",
       "      <td>junior management accountant    months contract</td>\n",
       "      <td>6000.0</td>\n",
       "    </tr>\n",
       "    <tr>\n",
       "      <th>1813</th>\n",
       "      <td>smartkarma innovations pte  ltd</td>\n",
       "      <td>junior business analyst</td>\n",
       "      <td>2500.0</td>\n",
       "    </tr>\n",
       "    <tr>\n",
       "      <th>1988</th>\n",
       "      <td>intelllex holdings private limited</td>\n",
       "      <td>junior data scientist</td>\n",
       "      <td>4250.0</td>\n",
       "    </tr>\n",
       "  </tbody>\n",
       "</table>\n",
       "</div>"
      ],
      "text/plain": [
       "                                                     companies  \\\n",
       "138                                           hubble pte  ltd    \n",
       "160                             streetsine singapore pte  ltd    \n",
       "229                 lucasfilm animation company singapore b v    \n",
       "501                        robert half international pte  ltd    \n",
       "552                                         tum create limited   \n",
       "672                               traveloka services pte  ltd    \n",
       "853            cartrack technologies south east asia pte  ltd    \n",
       "968   observational and pragmatic research institute pte  ltd    \n",
       "1158                               ubisoft singapore pte  ltd    \n",
       "1436                                omron asia pacific pte ltd   \n",
       "1457                              traveloka services pte  ltd    \n",
       "1484                         mastercard asia pacific pte  ltd    \n",
       "1624                                       macgregor pte  ltd    \n",
       "1710                                 the toronto dominion bank   \n",
       "1758                   allegis group singapore private limited   \n",
       "1813                          smartkarma innovations pte  ltd    \n",
       "1988                        intelllex holdings private limited   \n",
       "\n",
       "                                                                                  job_titles  \\\n",
       "138                                                                    junior data scientist   \n",
       "160                                                                      junior data analyst   \n",
       "229                                                                junior creature td artist   \n",
       "501                                                md        jqd   junior qlikview developer   \n",
       "552   junior computer vision engineer for deep learning applied to real world robotic system   \n",
       "672                                                         junior   mid level data engineer   \n",
       "853                                                                    junior data scientist   \n",
       "968                                                                      junior data analyst   \n",
       "1158                                                                  junior  d level artist   \n",
       "1436                                        junior it analyst  application support   ms sql    \n",
       "1457                                                         junior   mid level data analyst   \n",
       "1484                               associate analyst mastercard graduate development program   \n",
       "1624                                                     junior     order fulfilment handler   \n",
       "1710                                                         graduate associate  operations    \n",
       "1758                                        junior management accountant    months contract    \n",
       "1813                                                                 junior business analyst   \n",
       "1988                                                                   junior data scientist   \n",
       "\n",
       "      mean_salaries  \n",
       "138          5350.0  \n",
       "160          4000.0  \n",
       "229          4500.0  \n",
       "501          5500.0  \n",
       "552          4000.0  \n",
       "672          4500.0  \n",
       "853          7500.0  \n",
       "968          3500.0  \n",
       "1158         4750.0  \n",
       "1436         3150.0  \n",
       "1457         4500.0  \n",
       "1484         5500.0  \n",
       "1624         3000.0  \n",
       "1710         5500.0  \n",
       "1758         6000.0  \n",
       "1813         2500.0  \n",
       "1988         4250.0  "
      ]
     },
     "execution_count": 16,
     "metadata": {},
     "output_type": "execute_result"
    }
   ],
   "source": [
    "df_mcf[df_mcf['seniority'] == 'junior'][['companies','job_titles', 'mean_salaries']]"
   ]
  },
  {
   "cell_type": "markdown",
   "metadata": {},
   "source": [
    "**Rectify the skew in mean salaries**"
   ]
  },
  {
   "cell_type": "code",
   "execution_count": 17,
   "metadata": {},
   "outputs": [
    {
     "name": "stdout",
     "output_type": "stream",
     "text": [
      "Skew of Salaries without modification: 1.2957846904834358\n"
     ]
    },
    {
     "data": {
      "text/plain": [
       "Text(0.5, 0, 'Mean Salary no transformation')"
      ]
     },
     "execution_count": 17,
     "metadata": {},
     "output_type": "execute_result"
    },
    {
     "data": {
      "image/png": "[encoded data removed]",
      "text/plain": [
       "<Figure size 432x288 with 1 Axes>"
      ]
     },
     "metadata": {
      "needs_background": "light"
     },
     "output_type": "display_data"
    }
   ],
   "source": [
    "#skewed salary distribution\n",
    "print('Skew of Salaries without modification: {}'.format(skew(df_mcf['mean_salaries'])))\n",
    "sns.distplot(df_mcf['mean_salaries'])\n",
    "plt.title('Mean Salary')\n",
    "plt.ylabel('Salary frequency')\n",
    "plt.xlabel('Mean Salary no transformation')"
   ]
  },
  {
   "cell_type": "code",
   "execution_count": 18,
   "metadata": {},
   "outputs": [
    {
     "name": "stdout",
     "output_type": "stream",
     "text": [
      "Skew of Salaries with log10 transformation: -0.29253419840743383\n"
     ]
    },
    {
     "data": {
      "text/plain": [
       "Text(0.5, 0, 'Mean Salary Log10 transformed')"
      ]
     },
     "execution_count": 18,
     "metadata": {},
     "output_type": "execute_result"
    },
    {
     "data": {
      "image/png": "[encoded data removed]",
      "text/plain": [
       "<Figure size 432x288 with 1 Axes>"
      ]
     },
     "metadata": {
      "needs_background": "light"
     },
     "output_type": "display_data"
    }
   ],
   "source": [
    "# log transform salaries\n",
    "df_mcf['mean_salaries_log'] = df_mcf['mean_salaries'].apply(lambda x : np.log10(x))\n",
    "print('Skew of Salaries with log10 transformation: {}'.format(skew(df_mcf['mean_salaries_log'])))\n",
    "sns.distplot(df_mcf['mean_salaries_log'])\n",
    "plt.title('Log10 transformed Salary')\n",
    "plt.ylabel('salary frequency')\n",
    "plt.xlabel('Mean Salary Log10 transformed')"
   ]
  },
  {
   "cell_type": "code",
   "execution_count": 19,
   "metadata": {},
   "outputs": [
    {
     "name": "stdout",
     "output_type": "stream",
     "text": [
      "Skew of Salaries with log10 transformation: -0.007750757536205787\n"
     ]
    },
    {
     "data": {
      "text/plain": [
       "Text(0.5, 0, 'Mean Salary Box-Cox transformed')"
      ]
     },
     "execution_count": 19,
     "metadata": {},
     "output_type": "execute_result"
    },
    {
     "data": {
      "image/png": "[encoded data removed]",
      "text/plain": [
       "<Figure size 432x288 with 1 Axes>"
      ]
     },
     "metadata": {
      "needs_background": "light"
     },
     "output_type": "display_data"
    }
   ],
   "source": [
    "df_mcf['mean_salaries_bc']  = stats.boxcox(df_mcf['mean_salaries'])[0]\n",
    "print('Skew of Salaries with log10 transformation: {}'.format(skew(df_mcf['mean_salaries_bc'])))\n",
    "sns.distplot(df_mcf['mean_salaries_bc'])\n",
    "plt.title('Box-Cox transformed Salary')\n",
    "plt.ylabel('salary frequency')\n",
    "plt.xlabel('Mean Salary Box-Cox transformed')"
   ]
  },
  {
   "cell_type": "markdown",
   "metadata": {},
   "source": [
    "**NOTE : Use Box-Cox transformed values for salary**"
   ]
  },
  {
   "cell_type": "markdown",
   "metadata": {},
   "source": [
    "**Categories of Salaries**"
   ]
  },
  {
   "cell_type": "code",
   "execution_count": 20,
   "metadata": {},
   "outputs": [],
   "source": [
    "df_mcf.drop(columns = ['min_salaries','max_salaries', 'mean_salaries', 'mean_salaries_log'], inplace = True)"
   ]
  },
  {
   "cell_type": "markdown",
   "metadata": {},
   "source": [
    "# NLP text transformation"
   ]
  },
  {
   "cell_type": "code",
   "execution_count": 32,
   "metadata": {},
   "outputs": [],
   "source": [
    "# entries: 0 to 1574 are my careersfuture\n",
    "# entries from 1575 to 2488 are indeed.com"
   ]
  },
  {
   "cell_type": "code",
   "execution_count": 21,
   "metadata": {},
   "outputs": [],
   "source": [
    "df.drop(columns = 'salaries', inplace = True)\n",
    "df['mean_salaries_bc'] = 0"
   ]
  },
  {
   "cell_type": "code",
   "execution_count": 22,
   "metadata": {},
   "outputs": [],
   "source": [
    "full_df = pd.concat([df_mcf, df], axis = 0)"
   ]
  },
  {
   "cell_type": "code",
   "execution_count": 33,
   "metadata": {},
   "outputs": [],
   "source": [
    "full_df.reset_index(drop = True, inplace = True)"
   ]
  },
  {
   "cell_type": "markdown",
   "metadata": {},
   "source": [
    "**Generate stop words list using NLTK**\n",
    "--"
   ]
  },
  {
   "cell_type": "code",
   "execution_count": 35,
   "metadata": {},
   "outputs": [],
   "source": [
    "# Stop words to be added\n",
    "characters_to_replace = ['requirements', 'required', 'roles', 'responsibilities', 'job', 'summary', 'skills', 'experience', 'description', 'key', 'singapore'\n",
    "                       'qualifications', 'company', 'role', 'experience', 'knowledge', 'education', 'required', 'function', 'undisclosed', 'ltd', 'pte', 'asia']\n",
    "\n",
    "stop_words = stopwords.words('english')\n",
    "stop_words += characters_to_replace"
   ]
  },
  {
   "cell_type": "markdown",
   "metadata": {},
   "source": [
    "**Stemming Words using PorterStemmer & WordNetLemmatizer**\n",
    "----"
   ]
  },
  {
   "cell_type": "code",
   "execution_count": 36,
   "metadata": {},
   "outputs": [],
   "source": [
    "from nltk.stem import PorterStemmer\n",
    "porter = PorterStemmer()\n",
    "\n",
    "def stem_sentences(sentence):\n",
    "    tokens = sentence.split()\n",
    "    stemmed_tokens = [porter.stem(token) for token in tokens]\n",
    "    return ' '.join(stemmed_tokens)\n",
    "\n",
    "df_mcf['descriptions_pstemmed'] = df_mcf['descriptions'].apply(stem_sentences)\n",
    "full_df['descriptions_pstemmed'] = full_df['descriptions'].apply(stem_sentences)"
   ]
  },
  {
   "cell_type": "code",
   "execution_count": 37,
   "metadata": {},
   "outputs": [],
   "source": [
    "lemmatizer = WordNetLemmatizer() \n",
    "\n",
    "def stem_sentences(sentence):\n",
    "    tokens = sentence.split()\n",
    "    stemmed_tokens = [lemmatizer.lemmatize(token) for token in tokens]\n",
    "    return ' '.join(stemmed_tokens)\n",
    "\n",
    "df_mcf['descriptions_lemm'] = df_mcf['descriptions'].apply(stem_sentences)\n",
    "full_df['descriptions_lemm'] = full_df['descriptions'].apply(stem_sentences)"
   ]
  },
  {
   "cell_type": "code",
   "execution_count": 38,
   "metadata": {},
   "outputs": [
    {
     "data": {
      "text/html": [
       "<div>\n",
       "<style scoped>\n",
       "    .dataframe tbody tr th:only-of-type {\n",
       "        vertical-align: middle;\n",
       "    }\n",
       "\n",
       "    .dataframe tbody tr th {\n",
       "        vertical-align: top;\n",
       "    }\n",
       "\n",
       "    .dataframe thead th {\n",
       "        text-align: right;\n",
       "    }\n",
       "</style>\n",
       "<table border=\"1\" class=\"dataframe\">\n",
       "  <thead>\n",
       "    <tr style=\"text-align: right;\">\n",
       "      <th></th>\n",
       "      <th>descriptions</th>\n",
       "      <th>descriptions_pstemmed</th>\n",
       "      <th>descriptions_lemm</th>\n",
       "    </tr>\n",
       "  </thead>\n",
       "  <tbody>\n",
       "    <tr>\n",
       "      <th>0</th>\n",
       "      <td>roles   responsibilities    design and implement efficient  scalable and maintainable cross cut functionalities for the platform    design and implement infrastructure necessary to support the implemented functionality  we are deploying to aws and adapting kubernetes  using jenkins quite a lot to automate delivery pipeline    set up guidelines and processes for engineers to ensure consistent architecture across various applications    help and coach development teams on application and data ...</td>\n",
       "      <td>role respons design and implement effici scalabl and maintain cross cut function for the platform design and implement infrastructur necessari to support the implement function we are deploy to aw and adapt kubernet use jenkin quit a lot to autom deliveri pipelin set up guidelin and process for engin to ensur consist architectur across variou applic help and coach develop team on applic and data design work with legaci code to adapt it to use cross cut function our technolog stack includ but...</td>\n",
       "      <td>role responsibility design and implement efficient scalable and maintainable cross cut functionality for the platform design and implement infrastructure necessary to support the implemented functionality we are deploying to aws and adapting kubernetes using jenkins quite a lot to automate delivery pipeline set up guideline and process for engineer to ensure consistent architecture across various application help and coach development team on application and data design work with legacy code...</td>\n",
       "    </tr>\n",
       "  </tbody>\n",
       "</table>\n",
       "</div>"
      ],
      "text/plain": [
       "                                                                                                                                                                                                                                                                                                                                                                                                                                                                                                          descriptions  \\\n",
       "0  roles   responsibilities    design and implement efficient  scalable and maintainable cross cut functionalities for the platform    design and implement infrastructure necessary to support the implemented functionality  we are deploying to aws and adapting kubernetes  using jenkins quite a lot to automate delivery pipeline    set up guidelines and processes for engineers to ensure consistent architecture across various applications    help and coach development teams on application and data ...   \n",
       "\n",
       "                                                                                                                                                                                                                                                                                                                                                                                                                                                                                                 descriptions_pstemmed  \\\n",
       "0  role respons design and implement effici scalabl and maintain cross cut function for the platform design and implement infrastructur necessari to support the implement function we are deploy to aw and adapt kubernet use jenkin quit a lot to autom deliveri pipelin set up guidelin and process for engin to ensur consist architectur across variou applic help and coach develop team on applic and data design work with legaci code to adapt it to use cross cut function our technolog stack includ but...   \n",
       "\n",
       "                                                                                                                                                                                                                                                                                                                                                                                                                                                                                                     descriptions_lemm  \n",
       "0  role responsibility design and implement efficient scalable and maintainable cross cut functionality for the platform design and implement infrastructure necessary to support the implemented functionality we are deploying to aws and adapting kubernetes using jenkins quite a lot to automate delivery pipeline set up guideline and process for engineer to ensure consistent architecture across various application help and coach development team on application and data design work with legacy code...  "
      ]
     },
     "execution_count": 38,
     "metadata": {},
     "output_type": "execute_result"
    }
   ],
   "source": [
    "# Descriptions converted for mycareersfuture.com jobs\n",
    "df_mcf[['descriptions', 'descriptions_pstemmed', 'descriptions_lemm']].head(1)"
   ]
  },
  {
   "cell_type": "code",
   "execution_count": 40,
   "metadata": {},
   "outputs": [
    {
     "data": {
      "text/html": [
       "<div>\n",
       "<style scoped>\n",
       "    .dataframe tbody tr th:only-of-type {\n",
       "        vertical-align: middle;\n",
       "    }\n",
       "\n",
       "    .dataframe tbody tr th {\n",
       "        vertical-align: top;\n",
       "    }\n",
       "\n",
       "    .dataframe thead th {\n",
       "        text-align: right;\n",
       "    }\n",
       "</style>\n",
       "<table border=\"1\" class=\"dataframe\">\n",
       "  <thead>\n",
       "    <tr style=\"text-align: right;\">\n",
       "      <th></th>\n",
       "      <th>descriptions</th>\n",
       "      <th>descriptions_pstemmed</th>\n",
       "      <th>descriptions_lemm</th>\n",
       "    </tr>\n",
       "  </thead>\n",
       "  <tbody>\n",
       "    <tr>\n",
       "      <th>2488</th>\n",
       "      <td>position  buyer job description  job duties may include  but are not limited to  directing and overseeing purchasing operation of the business unit  overseeing and leading the work of a group of buyers and sales  follow up and manage daily req   offers   oem excess   proactive offers   manage inventory allocation and control  co ordinate incoming outgoing shipments with qa and logistics  compile data relating to supplier performance to enable evaluation  score card review   assess and evalua...</td>\n",
       "      <td>posit buyer job descript job duti may includ but are not limit to direct and overse purchas oper of the busi unit overse and lead the work of a group of buyer and sale follow up and manag daili req offer oem excess proactiv offer manag inventori alloc and control co ordin incom outgo shipment with qa and logist compil data relat to supplier perform to enabl evalu score card review assess and evalu supplier and contribut to perform review analys excess list to evalu opportun for end of life o...</td>\n",
       "      <td>position buyer job description job duty may include but are not limited to directing and overseeing purchasing operation of the business unit overseeing and leading the work of a group of buyer and sale follow up and manage daily req offer oem excess proactive offer manage inventory allocation and control co ordinate incoming outgoing shipment with qa and logistics compile data relating to supplier performance to enable evaluation score card review ass and evaluate supplier and contribute to...</td>\n",
       "    </tr>\n",
       "  </tbody>\n",
       "</table>\n",
       "</div>"
      ],
      "text/plain": [
       "                                                                                                                                                                                                                                                                                                                                                                                                                                                                                                             descriptions  \\\n",
       "2488  position  buyer job description  job duties may include  but are not limited to  directing and overseeing purchasing operation of the business unit  overseeing and leading the work of a group of buyers and sales  follow up and manage daily req   offers   oem excess   proactive offers   manage inventory allocation and control  co ordinate incoming outgoing shipments with qa and logistics  compile data relating to supplier performance to enable evaluation  score card review   assess and evalua...   \n",
       "\n",
       "                                                                                                                                                                                                                                                                                                                                                                                                                                                                                                    descriptions_pstemmed  \\\n",
       "2488  posit buyer job descript job duti may includ but are not limit to direct and overse purchas oper of the busi unit overse and lead the work of a group of buyer and sale follow up and manag daili req offer oem excess proactiv offer manag inventori alloc and control co ordin incom outgo shipment with qa and logist compil data relat to supplier perform to enabl evalu score card review assess and evalu supplier and contribut to perform review analys excess list to evalu opportun for end of life o...   \n",
       "\n",
       "                                                                                                                                                                                                                                                                                                                                                                                                                                                                                                        descriptions_lemm  \n",
       "2488  position buyer job description job duty may include but are not limited to directing and overseeing purchasing operation of the business unit overseeing and leading the work of a group of buyer and sale follow up and manage daily req offer oem excess proactive offer manage inventory allocation and control co ordinate incoming outgoing shipment with qa and logistics compile data relating to supplier performance to enable evaluation score card review ass and evaluate supplier and contribute to...  "
      ]
     },
     "execution_count": 40,
     "metadata": {},
     "output_type": "execute_result"
    }
   ],
   "source": [
    "# Descriptions coverted for indeed.com jobs\n",
    "full_df[['descriptions', 'descriptions_pstemmed', 'descriptions_lemm']].tail(1)"
   ]
  },
  {
   "cell_type": "markdown",
   "metadata": {},
   "source": [
    "**Word Counts & Frequencies**\n",
    "---\n",
    "Tried both no stemming, porterstemming and lemminization transformed descriptions. Selected Lemminization due to better r2 score. "
   ]
  },
  {
   "cell_type": "markdown",
   "metadata": {},
   "source": [
    "**Job Descriptions**"
   ]
  },
  {
   "cell_type": "code",
   "execution_count": 43,
   "metadata": {},
   "outputs": [
    {
     "name": "stdout",
     "output_type": "stream",
     "text": [
      "Word Frequency # features: 87477.\n",
      "top 10 words with frequency for mycareersfuture.com\n"
     ]
    },
    {
     "data": {
      "text/plain": [
       "data           43.298722\n",
       "business       37.186760\n",
       "team           35.882446\n",
       "work           30.977056\n",
       "project        30.792883\n",
       "skill          30.489073\n",
       "system         30.035482\n",
       "management     29.878008\n",
       "customer       28.260181\n",
       "requirement    27.319513\n",
       "dtype: float64"
      ]
     },
     "execution_count": 43,
     "metadata": {},
     "output_type": "execute_result"
    }
   ],
   "source": [
    "vect_1 = TfidfVectorizer(stop_words = stop_words, min_df = 2, ngram_range = (1,3), norm = 'l2')\n",
    "d_vector = vect_1.fit_transform(df_mcf['descriptions_lemm'])\n",
    "\n",
    "d_trans = pd.DataFrame(d_vector.todense(),columns=vect_1.get_feature_names())\n",
    "print('Word Frequency # features: {}.'.format(d_trans.shape[1]))\n",
    "\n",
    "word_counts = d_trans.sum(axis = 0)\n",
    "print('top 10 words with frequency for mycareersfuture.com')\n",
    "word_counts.sort_values(ascending = False).head(10)"
   ]
  },
  {
   "cell_type": "code",
   "execution_count": 44,
   "metadata": {},
   "outputs": [
    {
     "name": "stdout",
     "output_type": "stream",
     "text": [
      "Word Frequency # features: 150903.\n",
      "top 10 words with frequency for full dataset\n"
     ]
    },
    {
     "data": {
      "text/plain": [
       "data           68.029131\n",
       "business       59.866466\n",
       "team           56.244423\n",
       "work           46.369438\n",
       "skill          44.065339\n",
       "management     43.685449\n",
       "project        43.444832\n",
       "customer       40.798066\n",
       "system         40.556688\n",
       "requirement    38.177970\n",
       "dtype: float64"
      ]
     },
     "execution_count": 44,
     "metadata": {},
     "output_type": "execute_result"
    }
   ],
   "source": [
    "vect_2 = TfidfVectorizer(stop_words = stop_words, min_df = 2, ngram_range = (1,3), norm = 'l2')\n",
    "d_vector_in = vect_2.fit_transform(full_df['descriptions_lemm'])\n",
    "\n",
    "d_trans_in = pd.DataFrame(d_vector_in.todense(),columns=vect_2.get_feature_names())\n",
    "print('Word Frequency # features: {}.'.format(d_trans_in.shape[1]))\n",
    "\n",
    "word_counts_in = d_trans_in.sum(axis = 0)\n",
    "print('top 10 words with frequency for full dataset')\n",
    "word_counts_in.sort_values(ascending = False).head(10)"
   ]
  },
  {
   "cell_type": "markdown",
   "metadata": {},
   "source": [
    "**Job titles**"
   ]
  },
  {
   "cell_type": "code",
   "execution_count": 45,
   "metadata": {},
   "outputs": [
    {
     "name": "stdout",
     "output_type": "stream",
     "text": [
      "Word Frequency # features: 1145.\n",
      "top 10 words with frequency in job title for mycareersfuture.com\n"
     ]
    },
    {
     "data": {
      "text/plain": [
       "engineer      79.431535\n",
       "manager       70.750700\n",
       "senior        57.216651\n",
       "data          53.600063\n",
       "analyst       47.800730\n",
       "executive     46.793132\n",
       "assistant     44.715804\n",
       "research      33.946608\n",
       "developer     28.166935\n",
       "consultant    27.809119\n",
       "dtype: float64"
      ]
     },
     "execution_count": 45,
     "metadata": {},
     "output_type": "execute_result"
    }
   ],
   "source": [
    "vector_3 = TfidfVectorizer(stop_words = stop_words, min_df = 2, ngram_range = (1,3),norm = 'l2')\n",
    "jb_vector = vector_3.fit_transform(df_mcf['job_titles'])\n",
    "\n",
    "jb_trans = pd.DataFrame(jb_vector.todense(),columns=vector_3.get_feature_names())\n",
    "print('Word Frequency # features: {}.'.format(jb_trans.shape[1]))\n",
    "\n",
    "word_counts_jb = jb_trans.sum(axis = 0)\n",
    "print('top 10 words with frequency in job title for mycareersfuture.com')\n",
    "word_counts_jb.sort_values(ascending = False).head(10)\n"
   ]
  },
  {
   "cell_type": "code",
   "execution_count": 46,
   "metadata": {},
   "outputs": [
    {
     "name": "stdout",
     "output_type": "stream",
     "text": [
      "Word Frequency # features: 1145.\n",
      "top 10 words with frequency in job title for full dataset\n"
     ]
    },
    {
     "data": {
      "text/plain": [
       "data              101.813138\n",
       "senior             94.451738\n",
       "engineer           91.944258\n",
       "analyst            90.347307\n",
       "manager            85.306958\n",
       "executive          63.066767\n",
       "scientist          58.026476\n",
       "assistant          55.755397\n",
       "data scientist     51.971389\n",
       "business           49.720782\n",
       "dtype: float64"
      ]
     },
     "execution_count": 46,
     "metadata": {},
     "output_type": "execute_result"
    }
   ],
   "source": [
    "vector_4 = TfidfVectorizer(stop_words = stop_words, min_df = 2, ngram_range = (1,3),norm = 'l2')\n",
    "jb_vector_in = vector_4.fit_transform(full_df['job_titles'])\n",
    "\n",
    "jb_trans_in = pd.DataFrame(jb_vector_in.todense(),columns=vector_4.get_feature_names())\n",
    "print('Word Frequency # features: {}.'.format(jb_trans.shape[1]))\n",
    "\n",
    "word_counts_jb_in = jb_trans_in.sum(axis = 0)\n",
    "print('top 10 words with frequency in job title for full dataset')\n",
    "word_counts_jb_in.sort_values(ascending = False).head(10)"
   ]
  },
  {
   "cell_type": "markdown",
   "metadata": {},
   "source": [
    "**Companies**"
   ]
  },
  {
   "cell_type": "code",
   "execution_count": 47,
   "metadata": {},
   "outputs": [
    {
     "name": "stdout",
     "output_type": "stream",
     "text": [
      "Word Frequency # features: 902.\n",
      "top 10 words with frequency in companies for mycareersfuture.com\n"
     ]
    },
    {
     "data": {
      "text/plain": [
       "singapore        125.890459\n",
       "limited           43.858090\n",
       "pacific           39.569941\n",
       "international     30.773940\n",
       "services          29.839099\n",
       "university        27.904906\n",
       "bank              24.458003\n",
       "solutions         21.148331\n",
       "dbs               20.114703\n",
       "dbs bank          20.114703\n",
       "dtype: float64"
      ]
     },
     "execution_count": 47,
     "metadata": {},
     "output_type": "execute_result"
    }
   ],
   "source": [
    "vector_5 = TfidfVectorizer(stop_words = stop_words, min_df = 2, ngram_range = (1,3),norm = 'l2')\n",
    "co_vector = vector_5.fit_transform(df_mcf['companies'])\n",
    "\n",
    "co_trans = pd.DataFrame(co_vector.todense(),columns=vector_5.get_feature_names())\n",
    "print('Word Frequency # features: {}.'.format(co_trans.shape[1]))\n",
    "\n",
    "word_counts_co = co_trans.sum(axis = 0)\n",
    "print('top 10 words with frequency in companies for mycareersfuture.com')\n",
    "word_counts_co.sort_values(ascending = False).head(10)"
   ]
  },
  {
   "cell_type": "code",
   "execution_count": 48,
   "metadata": {},
   "outputs": [
    {
     "name": "stdout",
     "output_type": "stream",
     "text": [
      "Word Frequency # features: 1284.\n",
      "top 10 words with frequency in companies for full dataset\n"
     ]
    },
    {
     "data": {
      "text/plain": [
       "singapore        141.163704\n",
       "limited           46.352402\n",
       "pacific           41.805455\n",
       "university        37.871903\n",
       "bank              37.596510\n",
       "services          35.813304\n",
       "national          30.530521\n",
       "international     30.230923\n",
       "dbs               29.727363\n",
       "dbs bank          29.727363\n",
       "dtype: float64"
      ]
     },
     "execution_count": 48,
     "metadata": {},
     "output_type": "execute_result"
    }
   ],
   "source": [
    "vector_6 = TfidfVectorizer(stop_words = stop_words, min_df = 2, ngram_range = (1,3),norm = 'l2')\n",
    "co_vector_in = vector_6.fit_transform(full_df['companies'])\n",
    "\n",
    "co_trans_in = pd.DataFrame(co_vector_in.todense(),columns=vector_6.get_feature_names())\n",
    "print('Word Frequency # features: {}.'.format(co_trans_in.shape[1]))\n",
    "\n",
    "word_counts_co_in = co_trans_in.sum(axis = 0)\n",
    "print('top 10 words with frequency in companies for full dataset')\n",
    "word_counts_co_in.sort_values(ascending = False).head(10)"
   ]
  },
  {
   "cell_type": "markdown",
   "metadata": {},
   "source": [
    "**New DataFrame with the Transformed data**\n",
    "---"
   ]
  },
  {
   "cell_type": "code",
   "execution_count": 49,
   "metadata": {},
   "outputs": [
    {
     "name": "stdout",
     "output_type": "stream",
     "text": [
      "Number of Columns for mycareersfuture.com : 89529\n"
     ]
    }
   ],
   "source": [
    "# MY CAREERS FUTURE.COM DATAFRAME\n",
    "#Dummify the seniority:\n",
    "categories = df_mcf[['seniority']]\n",
    "categories = pd.get_dummies(categories, drop_first = True)\n",
    "\n",
    "#Reset all indexes\n",
    "categories.reset_index(drop = True, inplace = True)\n",
    "d_trans.reset_index(drop = True, inplace = True)\n",
    "jb_trans.reset_index(drop = True, inplace = True)\n",
    "co_trans.reset_index(drop = True, inplace = True)\n",
    "\n",
    "#Concatenate all the dataframes\n",
    "new_df = pd.concat([categories, jb_trans, d_trans, co_trans], axis = 1)\n",
    "print('Number of Columns for mycareersfuture.com : {}'.format(new_df.shape[1]))"
   ]
  },
  {
   "cell_type": "code",
   "execution_count": 50,
   "metadata": {},
   "outputs": [
    {
     "name": "stdout",
     "output_type": "stream",
     "text": [
      "Number of Columns for Full DataFrame : 154069\n"
     ]
    }
   ],
   "source": [
    "# FULL DATAFRAME\n",
    "\n",
    "#Dummify the seniority:\n",
    "categories_in = full_df[['seniority']]\n",
    "categories_in = pd.get_dummies(categories_in, drop_first = True)\n",
    "\n",
    "#Reset all indexes\n",
    "categories.reset_index(drop = True, inplace = True)\n",
    "d_trans_in.reset_index(drop = True, inplace = True)\n",
    "jb_trans_in.reset_index(drop = True, inplace = True)\n",
    "co_trans_in.reset_index(drop = True, inplace = True)\n",
    "\n",
    "#Concatenate all the dataframes\n",
    "new_df_in = pd.concat([categories_in, jb_trans_in, d_trans_in, co_trans_in], axis = 1)\n",
    "print('Number of Columns for Full DataFrame : {}'.format(new_df_in.shape[1]))"
   ]
  },
  {
   "cell_type": "markdown",
   "metadata": {},
   "source": [
    "**Visualizing Data**\n",
    "---"
   ]
  },
  {
   "cell_type": "code",
   "execution_count": 54,
   "metadata": {},
   "outputs": [
    {
     "data": {
      "text/plain": [
       "(10, 25)"
      ]
     },
     "execution_count": 54,
     "metadata": {},
     "output_type": "execute_result"
    },
    {
     "data": {
      "image/png": "[encoded data removed]",
      "text/plain": [
       "<Figure size 432x288 with 1 Axes>"
      ]
     },
     "metadata": {
      "needs_background": "light"
     },
     "output_type": "display_data"
    }
   ],
   "source": [
    "#By Job Title\n",
    "sns.barplot(x = 'title_short', y = 'mean_salaries_bc', data = df_mcf)\n",
    "plt.xticks(rotation = 45)\n",
    "plt.title('Mean Salary per job title')\n",
    "plt.ylim(10,25)"
   ]
  },
  {
   "cell_type": "code",
   "execution_count": 56,
   "metadata": {},
   "outputs": [
    {
     "data": {
      "text/plain": [
       "Text(0.5, 1.0, 'Mean Salary per seniority')"
      ]
     },
     "execution_count": 56,
     "metadata": {},
     "output_type": "execute_result"
    },
    {
     "data": {
      "image/png": "[encoded data removed]",
      "text/plain": [
       "<Figure size 432x288 with 1 Axes>"
      ]
     },
     "metadata": {
      "needs_background": "light"
     },
     "output_type": "display_data"
    }
   ],
   "source": [
    "#By Job Title\n",
    "sns.barplot(x = 'seniority', y = 'mean_salaries_bc', data = df_mcf)\n",
    "plt.xticks(rotation = 45)\n",
    "plt.title('Mean Salary per seniority')"
   ]
  },
  {
   "cell_type": "markdown",
   "metadata": {},
   "source": [
    "**PCA - visualizing distribution of jobs**"
   ]
  },
  {
   "cell_type": "code",
   "execution_count": 219,
   "metadata": {},
   "outputs": [
    {
     "data": {
      "text/plain": [
       "(1576, 154069)"
      ]
     },
     "execution_count": 219,
     "metadata": {},
     "output_type": "execute_result"
    }
   ],
   "source": [
    "# remove my indeed.com values\n",
    "X = new_df_in.iloc[0:1576,:]\n",
    "X.shape"
   ]
  },
  {
   "cell_type": "code",
   "execution_count": 220,
   "metadata": {},
   "outputs": [
    {
     "data": {
      "text/plain": [
       "(1576,)"
      ]
     },
     "execution_count": 220,
     "metadata": {},
     "output_type": "execute_result"
    }
   ],
   "source": [
    "y = df_mcf['mean_salaries_bc']\n",
    "y.shape"
   ]
  },
  {
   "cell_type": "code",
   "execution_count": 221,
   "metadata": {},
   "outputs": [],
   "source": [
    "# Split data 90 : 10\n",
    "X_train, X_test, y_train, y_test = train_test_split(X.values, y.values, test_size = 0.2, random_state = 42)"
   ]
  },
  {
   "cell_type": "code",
   "execution_count": 108,
   "metadata": {},
   "outputs": [],
   "source": [
    "#Do PCA here\n",
    "from sklearn.decomposition import PCA\n",
    "pca = PCA(n_components=5)\n",
    "pca.fit(X.values)\n",
    "data_pca = pca.transform(X.values)\n",
    "pca_comp = pca.components_"
   ]
  },
  {
   "cell_type": "code",
   "execution_count": 110,
   "metadata": {},
   "outputs": [],
   "source": [
    "df_pca = pd.DataFrame(data_pca,columns=['PC'+str(i) for i in range(1, data_pca.shape[1]+1)])\n",
    "df_pca['seniority'] = df_mcf['seniority']\n",
    "df_pca['title_short'] = df_mcf['title_short']\n",
    "comp_1 = pd.Series(pca.components_[0], index=new_df_in.columns)\n",
    "comp_2 = pd.Series(pca.components_[1], index=new_df_in.columns)"
   ]
  },
  {
   "cell_type": "code",
   "execution_count": 111,
   "metadata": {},
   "outputs": [
    {
     "data": {
      "text/plain": [
       "seniority_senior_manager    0.650078\n",
       "manager                     0.094805\n",
       "senior                      0.065954\n",
       "seniority_officer           0.061337\n",
       "assistant                   0.022771\n",
       "lead                        0.022462\n",
       "project manager             0.018836\n",
       "singapore                   0.017822\n",
       "project                     0.017302\n",
       "senior engineer             0.012385\n",
       "dtype: float64"
      ]
     },
     "execution_count": 111,
     "metadata": {},
     "output_type": "execute_result"
    }
   ],
   "source": [
    "comp_1.sort_values(ascending = False).head(10)"
   ]
  },
  {
   "cell_type": "code",
   "execution_count": 112,
   "metadata": {},
   "outputs": [
    {
     "data": {
      "text/plain": [
       "seniority_officer     0.737362\n",
       "assistant             0.175406\n",
       "officer               0.087472\n",
       "technician            0.043238\n",
       "research assistant    0.037159\n",
       "accounts assistant    0.035642\n",
       "accounts              0.031885\n",
       "admin                 0.030582\n",
       "university            0.030323\n",
       "admin assistant       0.028053\n",
       "dtype: float64"
      ]
     },
     "execution_count": 112,
     "metadata": {},
     "output_type": "execute_result"
    }
   ],
   "source": [
    "comp_2.sort_values(ascending = False).head(10)"
   ]
  },
  {
   "cell_type": "code",
   "execution_count": 113,
   "metadata": {},
   "outputs": [
    {
     "data": {
      "image/png": "[encoded data removed]",
      "text/plain": [
       "<Figure size 720x576 with 1 Axes>"
      ]
     },
     "metadata": {
      "needs_background": "light"
     },
     "output_type": "display_data"
    }
   ],
   "source": [
    "fig, ax = plt.subplots(figsize=(10,8))\n",
    "sns.scatterplot(x = 'PC1', y = 'PC2', data = df_pca, hue = 'seniority')\n",
    "\n",
    "ax.set_title('PC1 vs. PC2')\n",
    "ax.set_xlabel('principal component 1')\n",
    "ax.set_ylabel('principal component 2')\n",
    "plt.show()"
   ]
  },
  {
   "cell_type": "markdown",
   "metadata": {},
   "source": [
    "## Model Selection\n",
    "\n",
    "There are two ways to perform salary prediction. \n",
    "\n",
    "**Perform a linear regression prediction model.**\n",
    "Here, I test out the following models \n",
    "- **Base Model:** LinearRegression\n",
    "- **Regularization Models** Ridge, Lasso\n",
    "- **Robust Models** HuberRegressor"
   ]
  },
  {
   "cell_type": "markdown",
   "metadata": {},
   "source": [
    "**Base Model**\n",
    "--"
   ]
  },
  {
   "cell_type": "code",
   "execution_count": 114,
   "metadata": {},
   "outputs": [
    {
     "name": "stdout",
     "output_type": "stream",
     "text": [
      "Mean R2 : -2.1434684724473434e+24 Std R2: 1.9393930714968617e+24\n",
      "R2 Score  -8.798549921453071e+24\n"
     ]
    }
   ],
   "source": [
    "def model_selection(model,X, y, xt, yt):\n",
    "    kf = KFold(n_splits=5)\n",
    "    lr = model()\n",
    "    scores = cross_val_score(lr, X,y, cv = kf, scoring = 'r2')\n",
    "    lr = lr.fit(X,y)\n",
    "    y_pred = lr.predict(xt)\n",
    "        \n",
    "    print('Mean R2 :', round(np.mean(scores),2), 'Std R2:', round(np.std(scores),2))\n",
    "    print('R2 Score ', round(r2_score(yt, y_pred),2))\n",
    "\n",
    "model_selection(LinearRegression, X_train, y_train, X_test, y_test)"
   ]
  },
  {
   "cell_type": "markdown",
   "metadata": {},
   "source": [
    "**Model 2 : Regularization Model**\n",
    "---"
   ]
  },
  {
   "cell_type": "code",
   "execution_count": 115,
   "metadata": {},
   "outputs": [
    {
     "name": "stdout",
     "output_type": "stream",
     "text": [
      "alpha:  0.01 Mean R2 : 0.66 Std R2: 0.07\n",
      "R2 Score  0.69\n",
      "alpha:  0.23 Mean R2 : 0.68 Std R2: 0.06\n",
      "R2 Score  0.71\n",
      "alpha:  0.45 Mean R2 : 0.68 Std R2: 0.05\n",
      "R2 Score  0.71\n",
      "alpha:  0.67 Mean R2 : 0.68 Std R2: 0.05\n",
      "R2 Score  0.71\n",
      "alpha:  0.89 Mean R2 : 0.68 Std R2: 0.05\n",
      "R2 Score  0.7\n",
      "alpha:  1.12 Mean R2 : 0.68 Std R2: 0.05\n",
      "R2 Score  0.7\n",
      "alpha:  1.34 Mean R2 : 0.67 Std R2: 0.05\n",
      "R2 Score  0.7\n",
      "alpha:  1.56 Mean R2 : 0.67 Std R2: 0.05\n",
      "R2 Score  0.69\n",
      "alpha:  1.78 Mean R2 : 0.67 Std R2: 0.05\n",
      "R2 Score  0.69\n",
      "alpha:  2.0 Mean R2 : 0.66 Std R2: 0.05\n",
      "R2 Score  0.68\n"
     ]
    }
   ],
   "source": [
    "def model_selection(model,X, y, xt, yt):\n",
    "    \n",
    "    for alpha in np.linspace(0.01,2,10): \n",
    "        \n",
    "        kf = KFold(n_splits=10)\n",
    "        mod = model(alpha = alpha, random_state = 42, max_iter = 1000)\n",
    "        scores = cross_val_score(mod, X,y, cv = kf, scoring = 'r2')\n",
    "        mod = mod.fit(X,y)\n",
    "        y_pred = mod.predict(xt)\n",
    "        \n",
    "        print('alpha: ', round(alpha,2), 'Mean R2 :', round(np.mean(scores),2), 'Std R2:', round(np.std(scores),2))\n",
    "        print('R2 Score ', round(r2_score(yt, y_pred),2))\n",
    "\n",
    "\n",
    "#model_selection(Lasso,X_train, y_train, X_test, y_test) # Performance of Lasso is very low\n",
    "model_selection(Ridge,X_train, y_train, X_test, y_test)\n"
   ]
  },
  {
   "cell_type": "code",
   "execution_count": 116,
   "metadata": {},
   "outputs": [],
   "source": [
    "rdge = Ridge(alpha = 0.67, random_state = 42, max_iter = 1000)\n",
    "rdge = rdge.fit(X_train,y_train)\n",
    "y_pred = rdge.predict(X_test)"
   ]
  },
  {
   "cell_type": "code",
   "execution_count": 117,
   "metadata": {},
   "outputs": [
    {
     "name": "stdout",
     "output_type": "stream",
     "text": [
      "R2 Score  0.71\n"
     ]
    }
   ],
   "source": [
    "print('R2 Score ', round(r2_score(y_test, y_pred),2))"
   ]
  },
  {
   "cell_type": "code",
   "execution_count": 118,
   "metadata": {},
   "outputs": [
    {
     "data": {
      "text/plain": [
       "<matplotlib.axes._subplots.AxesSubplot at 0x1a2e965a90>"
      ]
     },
     "execution_count": 118,
     "metadata": {},
     "output_type": "execute_result"
    },
    {
     "data": {
      "image/png": "[encoded data removed]",
      "text/plain": [
       "<Figure size 432x288 with 1 Axes>"
      ]
     },
     "metadata": {
      "needs_background": "light"
     },
     "output_type": "display_data"
    }
   ],
   "source": [
    "sns.scatterplot(x = y_pred, y = y_test)"
   ]
  },
  {
   "cell_type": "code",
   "execution_count": 120,
   "metadata": {},
   "outputs": [],
   "source": [
    "## extract coefficients\n",
    "values = pd.DataFrame(rdge.coef_, columns = ['coefs'])\n",
    "values['Features'] = new_df_in.columns"
   ]
  },
  {
   "cell_type": "code",
   "execution_count": 121,
   "metadata": {},
   "outputs": [
    {
     "name": "stdout",
     "output_type": "stream",
     "text": [
      "Top Features that positively impact salary\n",
      "------------------------------------------\n"
     ]
    },
    {
     "data": {
      "text/html": [
       "<div>\n",
       "<style scoped>\n",
       "    .dataframe tbody tr th:only-of-type {\n",
       "        vertical-align: middle;\n",
       "    }\n",
       "\n",
       "    .dataframe tbody tr th {\n",
       "        vertical-align: top;\n",
       "    }\n",
       "\n",
       "    .dataframe thead th {\n",
       "        text-align: right;\n",
       "    }\n",
       "</style>\n",
       "<table border=\"1\" class=\"dataframe\">\n",
       "  <thead>\n",
       "    <tr style=\"text-align: right;\">\n",
       "      <th></th>\n",
       "      <th>coefs</th>\n",
       "      <th>Features</th>\n",
       "    </tr>\n",
       "  </thead>\n",
       "  <tbody>\n",
       "    <tr>\n",
       "      <th>1856</th>\n",
       "      <td>3.946147</td>\n",
       "      <td>vp</td>\n",
       "    </tr>\n",
       "    <tr>\n",
       "      <th>578</th>\n",
       "      <td>2.625055</td>\n",
       "      <td>director</td>\n",
       "    </tr>\n",
       "    <tr>\n",
       "      <th>159</th>\n",
       "      <td>1.944770</td>\n",
       "      <td>architect</td>\n",
       "    </tr>\n",
       "    <tr>\n",
       "      <th>1253</th>\n",
       "      <td>1.928726</td>\n",
       "      <td>principal</td>\n",
       "    </tr>\n",
       "    <tr>\n",
       "      <th>709</th>\n",
       "      <td>1.920140</td>\n",
       "      <td>financial controller</td>\n",
       "    </tr>\n",
       "    <tr>\n",
       "      <th>153518</th>\n",
       "      <td>1.639633</td>\n",
       "      <td>marine</td>\n",
       "    </tr>\n",
       "    <tr>\n",
       "      <th>988</th>\n",
       "      <td>1.620099</td>\n",
       "      <td>management</td>\n",
       "    </tr>\n",
       "    <tr>\n",
       "      <th>117629</th>\n",
       "      <td>1.592855</td>\n",
       "      <td>risk</td>\n",
       "    </tr>\n",
       "    <tr>\n",
       "      <th>752</th>\n",
       "      <td>1.566245</td>\n",
       "      <td>global</td>\n",
       "    </tr>\n",
       "    <tr>\n",
       "      <th>153086</th>\n",
       "      <td>1.450216</td>\n",
       "      <td>datarobot singapore</td>\n",
       "    </tr>\n",
       "  </tbody>\n",
       "</table>\n",
       "</div>"
      ],
      "text/plain": [
       "           coefs              Features\n",
       "1856    3.946147                    vp\n",
       "578     2.625055              director\n",
       "159     1.944770             architect\n",
       "1253    1.928726             principal\n",
       "709     1.920140  financial controller\n",
       "153518  1.639633                marine\n",
       "988     1.620099            management\n",
       "117629  1.592855                  risk\n",
       "752     1.566245                global\n",
       "153086  1.450216   datarobot singapore"
      ]
     },
     "execution_count": 121,
     "metadata": {},
     "output_type": "execute_result"
    }
   ],
   "source": [
    "print('Top Features that positively impact salary')\n",
    "print('------------------------------------------')\n",
    "values.sort_values(by = 'coefs', ascending = False).head(10)"
   ]
  },
  {
   "cell_type": "code",
   "execution_count": 122,
   "metadata": {},
   "outputs": [
    {
     "name": "stdout",
     "output_type": "stream",
     "text": [
      "Top Features that negatively impact salary\n",
      "------------------------------------------\n"
     ]
    },
    {
     "data": {
      "text/html": [
       "<div>\n",
       "<style scoped>\n",
       "    .dataframe tbody tr th:only-of-type {\n",
       "        vertical-align: middle;\n",
       "    }\n",
       "\n",
       "    .dataframe tbody tr th {\n",
       "        vertical-align: top;\n",
       "    }\n",
       "\n",
       "    .dataframe thead th {\n",
       "        text-align: right;\n",
       "    }\n",
       "</style>\n",
       "<table border=\"1\" class=\"dataframe\">\n",
       "  <thead>\n",
       "    <tr style=\"text-align: right;\">\n",
       "      <th></th>\n",
       "      <th>coefs</th>\n",
       "      <th>Features</th>\n",
       "    </tr>\n",
       "  </thead>\n",
       "  <tbody>\n",
       "    <tr>\n",
       "      <th>189</th>\n",
       "      <td>-1.778232</td>\n",
       "      <td>assistant professor</td>\n",
       "    </tr>\n",
       "    <tr>\n",
       "      <th>1299</th>\n",
       "      <td>-1.778232</td>\n",
       "      <td>professor</td>\n",
       "    </tr>\n",
       "    <tr>\n",
       "      <th>153083</th>\n",
       "      <td>-1.790522</td>\n",
       "      <td>data</td>\n",
       "    </tr>\n",
       "    <tr>\n",
       "      <th>336</th>\n",
       "      <td>-1.841865</td>\n",
       "      <td>clerk</td>\n",
       "    </tr>\n",
       "    <tr>\n",
       "      <th>153963</th>\n",
       "      <td>-1.857948</td>\n",
       "      <td>training</td>\n",
       "    </tr>\n",
       "    <tr>\n",
       "      <th>421</th>\n",
       "      <td>-1.948402</td>\n",
       "      <td>coordinator</td>\n",
       "    </tr>\n",
       "    <tr>\n",
       "      <th>154005</th>\n",
       "      <td>-1.980468</td>\n",
       "      <td>urbanfox</td>\n",
       "    </tr>\n",
       "    <tr>\n",
       "      <th>664</th>\n",
       "      <td>-2.253018</td>\n",
       "      <td>executive</td>\n",
       "    </tr>\n",
       "    <tr>\n",
       "      <th>3</th>\n",
       "      <td>-3.000552</td>\n",
       "      <td>seniority_officer</td>\n",
       "    </tr>\n",
       "    <tr>\n",
       "      <th>1</th>\n",
       "      <td>-3.880283</td>\n",
       "      <td>seniority_intern</td>\n",
       "    </tr>\n",
       "  </tbody>\n",
       "</table>\n",
       "</div>"
      ],
      "text/plain": [
       "           coefs             Features\n",
       "189    -1.778232  assistant professor\n",
       "1299   -1.778232            professor\n",
       "153083 -1.790522                 data\n",
       "336    -1.841865                clerk\n",
       "153963 -1.857948             training\n",
       "421    -1.948402          coordinator\n",
       "154005 -1.980468             urbanfox\n",
       "664    -2.253018            executive\n",
       "3      -3.000552    seniority_officer\n",
       "1      -3.880283     seniority_intern"
      ]
     },
     "execution_count": 122,
     "metadata": {},
     "output_type": "execute_result"
    }
   ],
   "source": [
    "print('Top Features that negatively impact salary')\n",
    "print('------------------------------------------')\n",
    "values.sort_values(by = 'coefs', ascending = False).tail(10)"
   ]
  },
  {
   "cell_type": "code",
   "execution_count": 123,
   "metadata": {},
   "outputs": [],
   "source": [
    "## Predicting Salaries for Indeed.com\n",
    "\n",
    "X_in = new_df_in.iloc[1576:,:]\n",
    "\n",
    "y_pred_in = rdge.predict(X_in.values)"
   ]
  },
  {
   "cell_type": "code",
   "execution_count": 124,
   "metadata": {},
   "outputs": [],
   "source": [
    "df['predicted_salary'] = y_pred_in"
   ]
  },
  {
   "cell_type": "code",
   "execution_count": 145,
   "metadata": {},
   "outputs": [
    {
     "name": "stdout",
     "output_type": "stream",
     "text": [
      "Mean Salaries per Seniority MyCareersFuture.com \n",
      " -------------- \n",
      "               mean_salaries_bc          \n",
      "                           mean       std\n",
      "seniority                                \n",
      "c_level               23.577437  3.477228\n",
      "executive             20.635369  2.350722\n",
      "intern                14.456021  1.898940\n",
      "junior                20.213092  1.304574\n",
      "officer               17.442016  1.638369\n",
      "senior_manager        22.432728  2.022835\n",
      " -------------- \n",
      "Mean Salaries per Seniority Indeed.com \n",
      " -------------- \n",
      "               predicted_salary          \n",
      "                           mean       std\n",
      "seniority                                \n",
      "c_level               23.491996  1.508389\n",
      "executive             21.045775  1.146005\n",
      "intern                17.949195  0.777786\n",
      "junior                20.787999  0.574486\n",
      "officer               18.057428  1.080273\n",
      "senior_manager        22.616396  1.056708\n"
     ]
    }
   ],
   "source": [
    "## Show the differences \n",
    "\n",
    "print('Mean Salaries per Seniority MyCareersFuture.com ')\n",
    "print(' -------------- ')\n",
    "print(df_mcf.groupby('seniority')[['mean_salaries_bc']].agg(['mean', 'std']))\n",
    "print(' -------------- ')\n",
    "print('Mean Salaries per Seniority Indeed.com ')\n",
    "print(' -------------- ')\n",
    "print(df.groupby('seniority')[['predicted_salary']].agg(['mean', 'std']))"
   ]
  },
  {
   "cell_type": "code",
   "execution_count": 146,
   "metadata": {},
   "outputs": [
    {
     "name": "stdout",
     "output_type": "stream",
     "text": [
      "Mean Salaries per Job Type MyCareersFuture.com \n",
      " -------------- \n",
      "                  mean_salaries_bc          \n",
      "                              mean       std\n",
      "title_short                                 \n",
      "BA_&_consultant          21.742903  2.590985\n",
      "academics                20.241602  1.891934\n",
      "administration           19.026627  3.189317\n",
      "data_job                 21.892209  2.193911\n",
      "finances                 20.628987  3.006052\n",
      "management               22.243755  2.258915\n",
      "other_tech_career        21.379499  2.253082\n",
      "unclassified             20.041324  2.754108\n",
      " -------------- \n",
      "Mean Salaries per Job Type Indeed.com \n",
      " -------------- \n",
      "                  predicted_salary          \n",
      "                              mean       std\n",
      "title_short                                 \n",
      "BA_&_consultant          21.589353  1.824914\n",
      "academics                20.585871  1.962598\n",
      "administration           20.086955  2.125270\n",
      "data_job                 21.727395  1.423972\n",
      "finances                 21.910817  1.886212\n",
      "management               21.819971  1.783201\n",
      "other_tech_career        21.118217  1.874016\n",
      "unclassified             20.617318  1.857068\n"
     ]
    }
   ],
   "source": [
    "## Show the differences \n",
    "\n",
    "print('Mean Salaries per Job Type MyCareersFuture.com ')\n",
    "print(' -------------- ')\n",
    "print(df_mcf.groupby('title_short')[['mean_salaries_bc']].agg(['mean', 'std']))\n",
    "print(' -------------- ')\n",
    "print('Mean Salaries per Job Type Indeed.com ')\n",
    "print(' -------------- ')\n",
    "print(df.groupby('title_short')[['predicted_salary']].agg(['mean', 'std']))"
   ]
  },
  {
   "cell_type": "markdown",
   "metadata": {},
   "source": [
    "**Model 2 - HuberRegressor**\n",
    "----"
   ]
  },
  {
   "cell_type": "code",
   "execution_count": 128,
   "metadata": {},
   "outputs": [
    {
     "name": "stdout",
     "output_type": "stream",
     "text": [
      "Fitting 3 folds for each of 25 candidates, totalling 75 fits\n"
     ]
    },
    {
     "name": "stderr",
     "output_type": "stream",
     "text": [
      "[Parallel(n_jobs=-1)]: Using backend LokyBackend with 12 concurrent workers.\n",
      "[Parallel(n_jobs=-1)]: Done   8 tasks      | elapsed:  7.2min\n",
      "[Parallel(n_jobs=-1)]: Done  75 out of  75 | elapsed: 40.4min finished\n"
     ]
    },
    {
     "name": "stdout",
     "output_type": "stream",
     "text": [
      "0.6614660373286511\n",
      "{'alpha': 1.0, 'epsilon': 3.25}\n"
     ]
    }
   ],
   "source": [
    "def model_selection(X, y, xt, yt):\n",
    "    parameters = {'epsilon' : np.linspace(1,10,5), 'alpha' : np.linspace(0.01,1,5)}\n",
    "    model = HuberRegressor()\n",
    "    hr = GridSearchCV(model, parameters, cv = 3,n_jobs = -1, scoring = 'r2', verbose = 3)\n",
    "    hr = hr.fit(X,y)\n",
    "    print(hr.best_score_)\n",
    "    print(hr.best_params_)\n",
    "\n",
    "model_selection(X_train, y_train, X_test, y_test)"
   ]
  },
  {
   "cell_type": "code",
   "execution_count": 222,
   "metadata": {},
   "outputs": [
    {
     "name": "stdout",
     "output_type": "stream",
     "text": [
      "Mean R2 : 0.66 Std R2: 0.02\n",
      "R2 Score  0.71\n"
     ]
    }
   ],
   "source": [
    "kf = KFold(n_splits=3)\n",
    "mod = HuberRegressor(epsilon = 3.25, alpha = 1)\n",
    "scores = cross_val_score(mod, X_train,y_train, cv = kf, scoring = 'r2')\n",
    "mod = mod.fit(X_train,y_train)\n",
    "y_pred_hr = mod.predict(X_test)\n",
    "        \n",
    "print('Mean R2 :', round(np.mean(scores),2), 'Std R2:', round(np.std(scores),2))\n",
    "print('R2 Score ', round(r2_score(y_test, y_pred),2))"
   ]
  },
  {
   "cell_type": "code",
   "execution_count": 223,
   "metadata": {},
   "outputs": [
    {
     "data": {
      "text/plain": [
       "<matplotlib.axes._subplots.AxesSubplot at 0x1a2c491ef0>"
      ]
     },
     "execution_count": 223,
     "metadata": {},
     "output_type": "execute_result"
    },
    {
     "data": {
      "image/png": "[encoded data removed]",
      "text/plain": [
       "<Figure size 432x288 with 1 Axes>"
      ]
     },
     "metadata": {
      "needs_background": "light"
     },
     "output_type": "display_data"
    }
   ],
   "source": [
    "sns.scatterplot(x = y_pred_hr, y = y_test)"
   ]
  },
  {
   "cell_type": "code",
   "execution_count": 224,
   "metadata": {},
   "outputs": [],
   "source": [
    "## extract coefficients\n",
    "values_hr = pd.DataFrame(mod.coef_, columns = ['coefs'])\n",
    "values_hr['Features'] = new_df_in.columns"
   ]
  },
  {
   "cell_type": "code",
   "execution_count": 225,
   "metadata": {},
   "outputs": [
    {
     "name": "stdout",
     "output_type": "stream",
     "text": [
      "Top Features that positively impact salary\n",
      "------------------------------------------\n"
     ]
    },
    {
     "data": {
      "text/html": [
       "<div>\n",
       "<style scoped>\n",
       "    .dataframe tbody tr th:only-of-type {\n",
       "        vertical-align: middle;\n",
       "    }\n",
       "\n",
       "    .dataframe tbody tr th {\n",
       "        vertical-align: top;\n",
       "    }\n",
       "\n",
       "    .dataframe thead th {\n",
       "        text-align: right;\n",
       "    }\n",
       "</style>\n",
       "<table border=\"1\" class=\"dataframe\">\n",
       "  <thead>\n",
       "    <tr style=\"text-align: right;\">\n",
       "      <th></th>\n",
       "      <th>coefs</th>\n",
       "      <th>Features</th>\n",
       "    </tr>\n",
       "  </thead>\n",
       "  <tbody>\n",
       "    <tr>\n",
       "      <th>1856</th>\n",
       "      <td>4.469866</td>\n",
       "      <td>vp</td>\n",
       "    </tr>\n",
       "    <tr>\n",
       "      <th>578</th>\n",
       "      <td>2.955715</td>\n",
       "      <td>director</td>\n",
       "    </tr>\n",
       "    <tr>\n",
       "      <th>1253</th>\n",
       "      <td>2.432059</td>\n",
       "      <td>principal</td>\n",
       "    </tr>\n",
       "    <tr>\n",
       "      <th>709</th>\n",
       "      <td>2.194852</td>\n",
       "      <td>financial controller</td>\n",
       "    </tr>\n",
       "    <tr>\n",
       "      <th>159</th>\n",
       "      <td>1.955334</td>\n",
       "      <td>architect</td>\n",
       "    </tr>\n",
       "    <tr>\n",
       "      <th>117629</th>\n",
       "      <td>1.946100</td>\n",
       "      <td>risk</td>\n",
       "    </tr>\n",
       "    <tr>\n",
       "      <th>153518</th>\n",
       "      <td>1.921748</td>\n",
       "      <td>marine</td>\n",
       "    </tr>\n",
       "    <tr>\n",
       "      <th>752</th>\n",
       "      <td>1.875531</td>\n",
       "      <td>global</td>\n",
       "    </tr>\n",
       "    <tr>\n",
       "      <th>463</th>\n",
       "      <td>1.771011</td>\n",
       "      <td>customer success</td>\n",
       "    </tr>\n",
       "    <tr>\n",
       "      <th>988</th>\n",
       "      <td>1.767721</td>\n",
       "      <td>management</td>\n",
       "    </tr>\n",
       "  </tbody>\n",
       "</table>\n",
       "</div>"
      ],
      "text/plain": [
       "           coefs              Features\n",
       "1856    4.469866                    vp\n",
       "578     2.955715              director\n",
       "1253    2.432059             principal\n",
       "709     2.194852  financial controller\n",
       "159     1.955334             architect\n",
       "117629  1.946100                  risk\n",
       "153518  1.921748                marine\n",
       "752     1.875531                global\n",
       "463     1.771011      customer success\n",
       "988     1.767721            management"
      ]
     },
     "execution_count": 225,
     "metadata": {},
     "output_type": "execute_result"
    }
   ],
   "source": [
    "print('Top Features that positively impact salary')\n",
    "print('------------------------------------------')\n",
    "values_hr.sort_values(by = 'coefs', ascending = False).head(10)"
   ]
  },
  {
   "cell_type": "code",
   "execution_count": 226,
   "metadata": {},
   "outputs": [
    {
     "name": "stdout",
     "output_type": "stream",
     "text": [
      "Top Features that negatively impact salary\n",
      "------------------------------------------\n"
     ]
    },
    {
     "data": {
      "text/html": [
       "<div>\n",
       "<style scoped>\n",
       "    .dataframe tbody tr th:only-of-type {\n",
       "        vertical-align: middle;\n",
       "    }\n",
       "\n",
       "    .dataframe tbody tr th {\n",
       "        vertical-align: top;\n",
       "    }\n",
       "\n",
       "    .dataframe thead th {\n",
       "        text-align: right;\n",
       "    }\n",
       "</style>\n",
       "<table border=\"1\" class=\"dataframe\">\n",
       "  <thead>\n",
       "    <tr style=\"text-align: right;\">\n",
       "      <th></th>\n",
       "      <th>coefs</th>\n",
       "      <th>Features</th>\n",
       "    </tr>\n",
       "  </thead>\n",
       "  <tbody>\n",
       "    <tr>\n",
       "      <th>336</th>\n",
       "      <td>-1.985482</td>\n",
       "      <td>clerk</td>\n",
       "    </tr>\n",
       "    <tr>\n",
       "      <th>664</th>\n",
       "      <td>-2.035649</td>\n",
       "      <td>executive</td>\n",
       "    </tr>\n",
       "    <tr>\n",
       "      <th>421</th>\n",
       "      <td>-2.045223</td>\n",
       "      <td>coordinator</td>\n",
       "    </tr>\n",
       "    <tr>\n",
       "      <th>153963</th>\n",
       "      <td>-2.103935</td>\n",
       "      <td>training</td>\n",
       "    </tr>\n",
       "    <tr>\n",
       "      <th>153083</th>\n",
       "      <td>-2.109809</td>\n",
       "      <td>data</td>\n",
       "    </tr>\n",
       "    <tr>\n",
       "      <th>1299</th>\n",
       "      <td>-2.195731</td>\n",
       "      <td>professor</td>\n",
       "    </tr>\n",
       "    <tr>\n",
       "      <th>189</th>\n",
       "      <td>-2.195731</td>\n",
       "      <td>assistant professor</td>\n",
       "    </tr>\n",
       "    <tr>\n",
       "      <th>154005</th>\n",
       "      <td>-2.490505</td>\n",
       "      <td>urbanfox</td>\n",
       "    </tr>\n",
       "    <tr>\n",
       "      <th>3</th>\n",
       "      <td>-2.698963</td>\n",
       "      <td>seniority_officer</td>\n",
       "    </tr>\n",
       "    <tr>\n",
       "      <th>1</th>\n",
       "      <td>-4.389779</td>\n",
       "      <td>seniority_intern</td>\n",
       "    </tr>\n",
       "  </tbody>\n",
       "</table>\n",
       "</div>"
      ],
      "text/plain": [
       "           coefs             Features\n",
       "336    -1.985482                clerk\n",
       "664    -2.035649            executive\n",
       "421    -2.045223          coordinator\n",
       "153963 -2.103935             training\n",
       "153083 -2.109809                 data\n",
       "1299   -2.195731            professor\n",
       "189    -2.195731  assistant professor\n",
       "154005 -2.490505             urbanfox\n",
       "3      -2.698963    seniority_officer\n",
       "1      -4.389779     seniority_intern"
      ]
     },
     "execution_count": 226,
     "metadata": {},
     "output_type": "execute_result"
    }
   ],
   "source": [
    "print('Top Features that negatively impact salary')\n",
    "print('------------------------------------------')\n",
    "values_hr.sort_values(by = 'coefs', ascending = False).tail(10)"
   ]
  },
  {
   "cell_type": "code",
   "execution_count": 227,
   "metadata": {},
   "outputs": [],
   "source": [
    "## Predicting Salaries for Indeed.com\n",
    "y_pred_in_hr = mod.predict(X_in.values)"
   ]
  },
  {
   "cell_type": "code",
   "execution_count": 228,
   "metadata": {},
   "outputs": [],
   "source": [
    "df['predicted_salary'] = y_pred_in"
   ]
  },
  {
   "cell_type": "code",
   "execution_count": 229,
   "metadata": {},
   "outputs": [
    {
     "name": "stdout",
     "output_type": "stream",
     "text": [
      "Mean Salaries per Seniority MyCareersFuture.com \n",
      " -------------- \n",
      "               mean_salaries_bc          \n",
      "                           mean       std\n",
      "seniority                                \n",
      "c_level               23.577437  3.477228\n",
      "executive             20.635369  2.350722\n",
      "intern                14.456021  1.898940\n",
      "junior                20.213092  1.304574\n",
      "officer               17.442016  1.638369\n",
      "senior_manager        22.432728  2.022835\n",
      " -------------- \n",
      "Mean Salaries per Seniority Indeed.com \n",
      " -------------- \n",
      "               predicted_salary          \n",
      "                           mean       std\n",
      "seniority                                \n",
      "c_level               23.491996  1.508389\n",
      "executive             21.045775  1.146005\n",
      "intern                17.949195  0.777786\n",
      "junior                20.787999  0.574486\n",
      "officer               18.057428  1.080273\n",
      "senior_manager        22.616396  1.056708\n"
     ]
    }
   ],
   "source": [
    "print('Mean Salaries per Seniority MyCareersFuture.com ')\n",
    "print(' -------------- ')\n",
    "print(df_mcf.groupby('seniority')[['mean_salaries_bc']].agg(['mean', 'std']))\n",
    "print(' -------------- ')\n",
    "print('Mean Salaries per Seniority Indeed.com ')\n",
    "print(' -------------- ')\n",
    "print(df.groupby('seniority')[['predicted_salary']].agg(['mean', 'std']))"
   ]
  },
  {
   "cell_type": "code",
   "execution_count": 230,
   "metadata": {},
   "outputs": [
    {
     "name": "stdout",
     "output_type": "stream",
     "text": [
      "Mean Salaries per Job Type MyCareersFuture.com \n",
      " -------------- \n",
      "                  mean_salaries_bc          \n",
      "                              mean       std\n",
      "title_short                                 \n",
      "BA_&_consultant          21.742903  2.590985\n",
      "academics                20.241602  1.891934\n",
      "administration           19.026627  3.189317\n",
      "data_job                 21.892209  2.193911\n",
      "finances                 20.628987  3.006052\n",
      "management               22.243755  2.258915\n",
      "other_tech_career        21.379499  2.253082\n",
      "unclassified             20.041324  2.754108\n",
      " -------------- \n",
      "Mean Salaries per Job Type Indeed.com \n",
      " -------------- \n",
      "                  predicted_salary          \n",
      "                              mean       std\n",
      "title_short                                 \n",
      "BA_&_consultant          21.589353  1.824914\n",
      "academics                20.585871  1.962598\n",
      "administration           20.086955  2.125270\n",
      "data_job                 21.727395  1.423972\n",
      "finances                 21.910817  1.886212\n",
      "management               21.819971  1.783201\n",
      "other_tech_career        21.118217  1.874016\n",
      "unclassified             20.617318  1.857068\n"
     ]
    }
   ],
   "source": [
    "print('Mean Salaries per Job Type MyCareersFuture.com ')\n",
    "print(' -------------- ')\n",
    "print(df_mcf.groupby('title_short')[['mean_salaries_bc']].agg(['mean', 'std']))\n",
    "print(' -------------- ')\n",
    "print('Mean Salaries per Job Type Indeed.com ')\n",
    "print(' -------------- ')\n",
    "print(df.groupby('title_short')[['predicted_salary']].agg(['mean', 'std']))"
   ]
  },
  {
   "cell_type": "markdown",
   "metadata": {},
   "source": [
    "### Best Model : Ridge Regression\n",
    "\n",
    "**Findings:** Salaries are mostly impacted by the seniority of the job. I.e Interns earn less than Senior and C-level personnel. "
   ]
  },
  {
   "cell_type": "markdown",
   "metadata": {},
   "source": [
    "### Question 2: Factors that distinguish job category\n",
    "Using the job postings you scraped for part 1 (or potentially new job postings from a second round of scraping), identify features in the data related to job postings that can distinguish job titles from each other. There are a variety of interesting ways you can frame the target variable, for example:\n",
    "\n",
    "What components of a job posting distinguish data scientists from other data jobs?\n",
    "What features are important for distinguishing junior vs. senior positions?\n",
    "Do the requirements for titles vary significantly with industry (e.g. healthcare vs. government)?\n",
    "You may end up making multiple classification models to tackle different questions. Be sure to clearly explain your hypotheses and framing, any feature engineering, and what your target variables are. The type of classification model you choose is up to you. Be sure to interpret your results and evaluate your models' performance.\n",
    "\n",
    "---\n"
   ]
  },
  {
   "cell_type": "markdown",
   "metadata": {},
   "source": [
    "## Strategy:\n",
    "--------------\n",
    "**What features distingish data jobs versus other jobs** \n",
    "\n",
    "- TARGET DATA : Short Job Title\n",
    "    - Convert Short job titles into binary\n",
    "    - Data Job = 1\n",
    "    - Others = 0\n",
    "\n",
    "- Keep same NLP as above. \n",
    "\n",
    "- Perform Smote on Data Jobs to balance classes\n",
    "\n",
    "- Model Selection \n",
    "    - KNN (classification)\n",
    "    - Logistic Regression (Regression)\n",
    "    - Adaboost(Classification)\n",
    "\n",
    "\n",
    "- If a model is good, identify important features via coeficient values"
   ]
  },
  {
   "cell_type": "code",
   "execution_count": 318,
   "metadata": {},
   "outputs": [
    {
     "name": "stdout",
     "output_type": "stream",
     "text": [
      "Number of Columns for mycareersfuture.com : 88385\n"
     ]
    }
   ],
   "source": [
    "# MY CAREERS FUTURE.COM DATAFRAME WITHOUT JOB TITLES\n",
    "#Dummify the seniority:\n",
    "categories = df_mcf[['seniority']]\n",
    "categories = pd.get_dummies(categories, drop_first = True)\n",
    "\n",
    "#Reset all indexes\n",
    "categories.reset_index(drop = True, inplace = True)\n",
    "d_trans.reset_index(drop = True, inplace = True)\n",
    "co_trans.reset_index(drop = True, inplace = True)\n",
    "\n",
    "salaries = df_mcf['mean_salaries_bc']\n",
    "salaries.reset_index(drop = True, inplace = True)\n",
    "\n",
    "#Concatenate all the dataframes\n",
    "new_df = pd.concat([categories, d_trans, co_trans, salaries], axis = 1)\n",
    "print('Number of Columns for mycareersfuture.com : {}'.format(new_df.shape[1]))"
   ]
  },
  {
   "cell_type": "markdown",
   "metadata": {},
   "source": [
    "**Convert Job Titles to binary**\n",
    "--"
   ]
  },
  {
   "cell_type": "code",
   "execution_count": 319,
   "metadata": {},
   "outputs": [],
   "source": [
    "new_df['jb_title'] = df_mcf['title_short']"
   ]
  },
  {
   "cell_type": "code",
   "execution_count": 320,
   "metadata": {},
   "outputs": [],
   "source": [
    "new_df['jb_title'] = new_df['jb_title'] .apply(lambda x: 1 if x=='data_job' else 0)"
   ]
  },
  {
   "cell_type": "code",
   "execution_count": 321,
   "metadata": {},
   "outputs": [
    {
     "name": "stdout",
     "output_type": "stream",
     "text": [
      "0 = Non data job, 1 = Data job\n"
     ]
    },
    {
     "data": {
      "text/plain": [
       "0    1250\n",
       "1     326\n",
       "Name: jb_title, dtype: int64"
      ]
     },
     "execution_count": 321,
     "metadata": {},
     "output_type": "execute_result"
    }
   ],
   "source": [
    "print('0 = Non data job, 1 = Data job')\n",
    "new_df['jb_title'].value_counts()"
   ]
  },
  {
   "cell_type": "code",
   "execution_count": 322,
   "metadata": {},
   "outputs": [],
   "source": [
    "X = new_df.drop(columns = 'jb_title')\n",
    "y = new_df['jb_title']\n",
    "\n",
    "X_train, X_test, y_train, y_test = train_test_split(X.values, y.values, test_size = 0.2, random_state = 42)"
   ]
  },
  {
   "cell_type": "markdown",
   "metadata": {},
   "source": [
    "**Balancing Classes Using Smote**\n",
    "---"
   ]
  },
  {
   "cell_type": "code",
   "execution_count": 323,
   "metadata": {},
   "outputs": [],
   "source": [
    "sm = SMOTE(random_state=42)\n",
    "x_res, y_res = sm.fit_sample(X_train, y_train)"
   ]
  },
  {
   "cell_type": "markdown",
   "metadata": {},
   "source": [
    "**K-Nearest Neighbours**\n",
    "---"
   ]
  },
  {
   "cell_type": "code",
   "execution_count": 324,
   "metadata": {},
   "outputs": [
    {
     "name": "stdout",
     "output_type": "stream",
     "text": [
      "Mean accuracy : 0.71 Std accuracy: 0.01\n",
      "confusion matrix  [[117 130]\n",
      " [ 13  56]]\n",
      "Mean accuracy : 0.73 Std accuracy: 0.02\n",
      "confusion matrix  [[127 120]\n",
      " [ 14  55]]\n",
      "Mean accuracy : 0.68 Std accuracy: 0.02\n",
      "confusion matrix  [[ 93 154]\n",
      " [  6  63]]\n",
      "Mean accuracy : 0.66 Std accuracy: 0.02\n",
      "confusion matrix  [[ 82 165]\n",
      " [  5  64]]\n",
      "Mean accuracy : 0.64 Std accuracy: 0.02\n",
      "confusion matrix  [[ 78 169]\n",
      " [  6  63]]\n",
      "Mean accuracy : 0.64 Std accuracy: 0.02\n",
      "confusion matrix  [[ 75 172]\n",
      " [  5  64]]\n",
      "Mean accuracy : 0.62 Std accuracy: 0.02\n",
      "confusion matrix  [[ 69 178]\n",
      " [  2  67]]\n"
     ]
    }
   ],
   "source": [
    "def model_selection(X, y, xt, yt):\n",
    "    for k in [1,2,4,6,8,10,20]:\n",
    "        mod = KNeighborsClassifier(n_neighbors= k)\n",
    "        scores = cross_val_score(mod, X,y, cv = 5, scoring = 'accuracy')\n",
    "        mod = mod.fit(X,y)\n",
    "        y_pred = mod.predict(xt)\n",
    "        \n",
    "        print('Mean accuracy :', round(np.mean(scores),2), 'Std accuracy:', round(np.std(scores),2))\n",
    "        print('confusion matrix ', confusion_matrix(yt, y_pred))\n",
    "        \n",
    "model_selection(x_res, y_res, X_test, y_test)"
   ]
  },
  {
   "cell_type": "markdown",
   "metadata": {},
   "source": [
    "**Logistic Regression**\n",
    "---"
   ]
  },
  {
   "cell_type": "code",
   "execution_count": 325,
   "metadata": {},
   "outputs": [
    {
     "name": "stdout",
     "output_type": "stream",
     "text": [
      "Mean accuracy : 0.62 Std accuracy: 0.01\n",
      "confusion matrix  [[146 101]\n",
      " [ 24  45]]\n",
      "Mean accuracy : 0.66 Std accuracy: 0.01\n",
      "confusion matrix  [[157  90]\n",
      " [ 22  47]]\n",
      "Mean accuracy : 0.78 Std accuracy: 0.02\n",
      "confusion matrix  [[180  67]\n",
      " [ 19  50]]\n",
      "Mean accuracy : 0.92 Std accuracy: 0.02\n",
      "confusion matrix  [[224  23]\n",
      " [ 25  44]]\n",
      "Mean accuracy : 0.95 Std accuracy: 0.02\n",
      "confusion matrix  [[235  12]\n",
      " [ 30  39]]\n",
      "Mean accuracy : 0.96 Std accuracy: 0.01\n",
      "confusion matrix  [[239   8]\n",
      " [ 33  36]]\n"
     ]
    }
   ],
   "source": [
    "def model_selection(X, y, xt, yt):\n",
    "    for c in [0.001, 0.01, 0.1, 1, 10, 100]:\n",
    "        mod = LogisticRegression(C = c, solver = 'lbfgs', max_iter = 1000)\n",
    "        scores = cross_val_score(mod, X,y, cv = 5, scoring = 'accuracy')\n",
    "        mod = mod.fit(X,y)\n",
    "        y_pred = mod.predict(xt)\n",
    "        \n",
    "        print('Mean accuracy :', round(np.mean(scores),2), 'Std accuracy:', round(np.std(scores),2))\n",
    "        print('confusion matrix ', confusion_matrix(yt, y_pred))\n",
    "        \n",
    "model_selection(x_res, y_res, X_test, y_test)"
   ]
  },
  {
   "cell_type": "markdown",
   "metadata": {},
   "source": [
    "**Best Model: Logistic Regression**\n",
    "---"
   ]
  },
  {
   "cell_type": "code",
   "execution_count": 335,
   "metadata": {},
   "outputs": [
    {
     "data": {
      "text/plain": [
       "array([[224,  23],\n",
       "       [ 25,  44]])"
      ]
     },
     "execution_count": 335,
     "metadata": {},
     "output_type": "execute_result"
    }
   ],
   "source": [
    "mod = LogisticRegression(C = 1, solver = 'lbfgs', max_iter = 1000)\n",
    "mod = mod.fit(x_res,y_res)\n",
    "y_pred = mod.predict(X_test)\n",
    "confusion_matrix(y_test, y_pred)"
   ]
  },
  {
   "cell_type": "code",
   "execution_count": 336,
   "metadata": {},
   "outputs": [],
   "source": [
    "## extract coefficients\n",
    "values_log = pd.DataFrame(mod.coef_[0], columns = ['coefs'])\n",
    "values_log['Features'] = X.columns"
   ]
  },
  {
   "cell_type": "code",
   "execution_count": 337,
   "metadata": {},
   "outputs": [
    {
     "name": "stdout",
     "output_type": "stream",
     "text": [
      "Top Features that dictate data job title positively\n",
      "------------------------------------------\n"
     ]
    },
    {
     "data": {
      "text/html": [
       "<div>\n",
       "<style scoped>\n",
       "    .dataframe tbody tr th:only-of-type {\n",
       "        vertical-align: middle;\n",
       "    }\n",
       "\n",
       "    .dataframe tbody tr th {\n",
       "        vertical-align: top;\n",
       "    }\n",
       "\n",
       "    .dataframe thead th {\n",
       "        text-align: right;\n",
       "    }\n",
       "</style>\n",
       "<table border=\"1\" class=\"dataframe\">\n",
       "  <thead>\n",
       "    <tr style=\"text-align: right;\">\n",
       "      <th></th>\n",
       "      <th>coefs</th>\n",
       "      <th>Features</th>\n",
       "    </tr>\n",
       "  </thead>\n",
       "  <tbody>\n",
       "    <tr>\n",
       "      <th>17655</th>\n",
       "      <td>5.313159</td>\n",
       "      <td>data</td>\n",
       "    </tr>\n",
       "    <tr>\n",
       "      <th>3970</th>\n",
       "      <td>2.390649</td>\n",
       "      <td>analytics</td>\n",
       "    </tr>\n",
       "    <tr>\n",
       "      <th>9122</th>\n",
       "      <td>2.270947</td>\n",
       "      <td>business</td>\n",
       "    </tr>\n",
       "    <tr>\n",
       "      <th>3484</th>\n",
       "      <td>1.880218</td>\n",
       "      <td>analysis</td>\n",
       "    </tr>\n",
       "    <tr>\n",
       "      <th>18732</th>\n",
       "      <td>1.843522</td>\n",
       "      <td>database</td>\n",
       "    </tr>\n",
       "    <tr>\n",
       "      <th>3798</th>\n",
       "      <td>1.785866</td>\n",
       "      <td>analyst</td>\n",
       "    </tr>\n",
       "    <tr>\n",
       "      <th>43324</th>\n",
       "      <td>1.668906</td>\n",
       "      <td>machine</td>\n",
       "    </tr>\n",
       "    <tr>\n",
       "      <th>43328</th>\n",
       "      <td>1.594269</td>\n",
       "      <td>machine learning</td>\n",
       "    </tr>\n",
       "    <tr>\n",
       "      <th>2</th>\n",
       "      <td>1.458919</td>\n",
       "      <td>seniority_junior</td>\n",
       "    </tr>\n",
       "    <tr>\n",
       "      <th>41551</th>\n",
       "      <td>1.395447</td>\n",
       "      <td>learning</td>\n",
       "    </tr>\n",
       "  </tbody>\n",
       "</table>\n",
       "</div>"
      ],
      "text/plain": [
       "          coefs          Features\n",
       "17655  5.313159              data\n",
       "3970   2.390649         analytics\n",
       "9122   2.270947          business\n",
       "3484   1.880218          analysis\n",
       "18732  1.843522          database\n",
       "3798   1.785866           analyst\n",
       "43324  1.668906           machine\n",
       "43328  1.594269  machine learning\n",
       "2      1.458919  seniority_junior\n",
       "41551  1.395447          learning"
      ]
     },
     "execution_count": 337,
     "metadata": {},
     "output_type": "execute_result"
    }
   ],
   "source": [
    "print('Top Features that dictate data job title positively')\n",
    "print('------------------------------------------')\n",
    "values_log.sort_values(by = 'coefs', ascending = False).head(10)"
   ]
  },
  {
   "cell_type": "code",
   "execution_count": 338,
   "metadata": {},
   "outputs": [
    {
     "name": "stdout",
     "output_type": "stream",
     "text": [
      "Top Features that dictate data job title negatively\n",
      "------------------------------------------\n"
     ]
    },
    {
     "data": {
      "text/html": [
       "<div>\n",
       "<style scoped>\n",
       "    .dataframe tbody tr th:only-of-type {\n",
       "        vertical-align: middle;\n",
       "    }\n",
       "\n",
       "    .dataframe tbody tr th {\n",
       "        vertical-align: top;\n",
       "    }\n",
       "\n",
       "    .dataframe thead th {\n",
       "        text-align: right;\n",
       "    }\n",
       "</style>\n",
       "<table border=\"1\" class=\"dataframe\">\n",
       "  <thead>\n",
       "    <tr style=\"text-align: right;\">\n",
       "      <th></th>\n",
       "      <th>coefs</th>\n",
       "      <th>Features</th>\n",
       "    </tr>\n",
       "  </thead>\n",
       "  <tbody>\n",
       "    <tr>\n",
       "      <th>71872</th>\n",
       "      <td>-0.818540</td>\n",
       "      <td>software</td>\n",
       "    </tr>\n",
       "    <tr>\n",
       "      <th>45600</th>\n",
       "      <td>-0.823202</td>\n",
       "      <td>marketing</td>\n",
       "    </tr>\n",
       "    <tr>\n",
       "      <th>87825</th>\n",
       "      <td>-0.842498</td>\n",
       "      <td>group</td>\n",
       "    </tr>\n",
       "    <tr>\n",
       "      <th>84531</th>\n",
       "      <td>-0.851697</td>\n",
       "      <td>web</td>\n",
       "    </tr>\n",
       "    <tr>\n",
       "      <th>810</th>\n",
       "      <td>-0.872898</td>\n",
       "      <td>account</td>\n",
       "    </tr>\n",
       "    <tr>\n",
       "      <th>20583</th>\n",
       "      <td>-0.971606</td>\n",
       "      <td>design</td>\n",
       "    </tr>\n",
       "    <tr>\n",
       "      <th>88248</th>\n",
       "      <td>-0.992264</td>\n",
       "      <td>starhub</td>\n",
       "    </tr>\n",
       "    <tr>\n",
       "      <th>87753</th>\n",
       "      <td>-1.025728</td>\n",
       "      <td>engineering</td>\n",
       "    </tr>\n",
       "    <tr>\n",
       "      <th>88338</th>\n",
       "      <td>-1.158023</td>\n",
       "      <td>university</td>\n",
       "    </tr>\n",
       "    <tr>\n",
       "      <th>87958</th>\n",
       "      <td>-1.172038</td>\n",
       "      <td>limited</td>\n",
       "    </tr>\n",
       "  </tbody>\n",
       "</table>\n",
       "</div>"
      ],
      "text/plain": [
       "          coefs     Features\n",
       "71872 -0.818540     software\n",
       "45600 -0.823202    marketing\n",
       "87825 -0.842498        group\n",
       "84531 -0.851697          web\n",
       "810   -0.872898      account\n",
       "20583 -0.971606       design\n",
       "88248 -0.992264      starhub\n",
       "87753 -1.025728  engineering\n",
       "88338 -1.158023   university\n",
       "87958 -1.172038      limited"
      ]
     },
     "execution_count": 338,
     "metadata": {},
     "output_type": "execute_result"
    }
   ],
   "source": [
    "print('Top Features that dictate data job title negatively')\n",
    "print('------------------------------------------')\n",
    "values_log.sort_values(by = 'coefs', ascending = False).tail(10)"
   ]
  },
  {
   "cell_type": "markdown",
   "metadata": {},
   "source": [
    "**AdaBoost**\n",
    "---"
   ]
  },
  {
   "cell_type": "code",
   "execution_count": 329,
   "metadata": {},
   "outputs": [
    {
     "name": "stdout",
     "output_type": "stream",
     "text": [
      "Mean accuracy : 0.87 Std accuracy: 0.06\n",
      "confusion matrix  [[215  32]\n",
      " [ 25  44]]\n"
     ]
    }
   ],
   "source": [
    "clf = AdaBoostClassifier(base_estimator = DecisionTreeClassifier(max_depth = 5000), n_estimators=20, random_state=42)\n",
    "scores = cross_val_score(clf, x_res,y_res, cv = 3, scoring = 'accuracy')\n",
    "clf = clf.fit(x_res,y_res)\n",
    "y_pred = clf.predict(X_test)\n",
    "\n",
    "print('Mean accuracy :', round(np.mean(scores),2), 'Std accuracy:', round(np.std(scores),2))\n",
    "print('confusion matrix ', confusion_matrix(y_test, y_pred))"
   ]
  },
  {
   "cell_type": "code",
   "execution_count": 330,
   "metadata": {},
   "outputs": [],
   "source": [
    "## extract coefficients\n",
    "feature_imp = pd.DataFrame(clf.feature_importances_, columns = ['coefs'])\n",
    "feature_imp['Features'] = X.columns"
   ]
  },
  {
   "cell_type": "code",
   "execution_count": 333,
   "metadata": {},
   "outputs": [
    {
     "name": "stdout",
     "output_type": "stream",
     "text": [
      "Top Features that dictate job title\n",
      "------------------------------------------\n"
     ]
    },
    {
     "data": {
      "text/html": [
       "<div>\n",
       "<style scoped>\n",
       "    .dataframe tbody tr th:only-of-type {\n",
       "        vertical-align: middle;\n",
       "    }\n",
       "\n",
       "    .dataframe tbody tr th {\n",
       "        vertical-align: top;\n",
       "    }\n",
       "\n",
       "    .dataframe thead th {\n",
       "        text-align: right;\n",
       "    }\n",
       "</style>\n",
       "<table border=\"1\" class=\"dataframe\">\n",
       "  <thead>\n",
       "    <tr style=\"text-align: right;\">\n",
       "      <th></th>\n",
       "      <th>coefs</th>\n",
       "      <th>Features</th>\n",
       "    </tr>\n",
       "  </thead>\n",
       "  <tbody>\n",
       "    <tr>\n",
       "      <th>17655</th>\n",
       "      <td>0.315439</td>\n",
       "      <td>data</td>\n",
       "    </tr>\n",
       "    <tr>\n",
       "      <th>3798</th>\n",
       "      <td>0.123337</td>\n",
       "      <td>analyst</td>\n",
       "    </tr>\n",
       "    <tr>\n",
       "      <th>9122</th>\n",
       "      <td>0.048222</td>\n",
       "      <td>business</td>\n",
       "    </tr>\n",
       "    <tr>\n",
       "      <th>84149</th>\n",
       "      <td>0.032370</td>\n",
       "      <td>visualization</td>\n",
       "    </tr>\n",
       "    <tr>\n",
       "      <th>81761</th>\n",
       "      <td>0.021020</td>\n",
       "      <td>tuning</td>\n",
       "    </tr>\n",
       "    <tr>\n",
       "      <th>9784</th>\n",
       "      <td>0.020986</td>\n",
       "      <td>bw</td>\n",
       "    </tr>\n",
       "    <tr>\n",
       "      <th>66082</th>\n",
       "      <td>0.020123</td>\n",
       "      <td>responsibility scope</td>\n",
       "    </tr>\n",
       "    <tr>\n",
       "      <th>53219</th>\n",
       "      <td>0.016141</td>\n",
       "      <td>passionate</td>\n",
       "    </tr>\n",
       "    <tr>\n",
       "      <th>87040</th>\n",
       "      <td>0.013686</td>\n",
       "      <td>year</td>\n",
       "    </tr>\n",
       "    <tr>\n",
       "      <th>18948</th>\n",
       "      <td>0.012220</td>\n",
       "      <td>day</td>\n",
       "    </tr>\n",
       "    <tr>\n",
       "      <th>4577</th>\n",
       "      <td>0.012115</td>\n",
       "      <td>application</td>\n",
       "    </tr>\n",
       "    <tr>\n",
       "      <th>54750</th>\n",
       "      <td>0.011898</td>\n",
       "      <td>plan</td>\n",
       "    </tr>\n",
       "    <tr>\n",
       "      <th>19767</th>\n",
       "      <td>0.010545</td>\n",
       "      <td>deliver</td>\n",
       "    </tr>\n",
       "    <tr>\n",
       "      <th>32622</th>\n",
       "      <td>0.010502</td>\n",
       "      <td>good excel</td>\n",
       "    </tr>\n",
       "    <tr>\n",
       "      <th>6414</th>\n",
       "      <td>0.010351</td>\n",
       "      <td>attitude learn</td>\n",
       "    </tr>\n",
       "    <tr>\n",
       "      <th>3862</th>\n",
       "      <td>0.010059</td>\n",
       "      <td>analytical</td>\n",
       "    </tr>\n",
       "    <tr>\n",
       "      <th>45055</th>\n",
       "      <td>0.009467</td>\n",
       "      <td>managing</td>\n",
       "    </tr>\n",
       "    <tr>\n",
       "      <th>42865</th>\n",
       "      <td>0.008999</td>\n",
       "      <td>local country</td>\n",
       "    </tr>\n",
       "    <tr>\n",
       "      <th>67595</th>\n",
       "      <td>0.008968</td>\n",
       "      <td>safety</td>\n",
       "    </tr>\n",
       "    <tr>\n",
       "      <th>31319</th>\n",
       "      <td>0.008823</td>\n",
       "      <td>front</td>\n",
       "    </tr>\n",
       "  </tbody>\n",
       "</table>\n",
       "</div>"
      ],
      "text/plain": [
       "          coefs              Features\n",
       "17655  0.315439                  data\n",
       "3798   0.123337               analyst\n",
       "9122   0.048222              business\n",
       "84149  0.032370         visualization\n",
       "81761  0.021020                tuning\n",
       "9784   0.020986                    bw\n",
       "66082  0.020123  responsibility scope\n",
       "53219  0.016141            passionate\n",
       "87040  0.013686                  year\n",
       "18948  0.012220                   day\n",
       "4577   0.012115           application\n",
       "54750  0.011898                  plan\n",
       "19767  0.010545               deliver\n",
       "32622  0.010502            good excel\n",
       "6414   0.010351        attitude learn\n",
       "3862   0.010059            analytical\n",
       "45055  0.009467              managing\n",
       "42865  0.008999         local country\n",
       "67595  0.008968                safety\n",
       "31319  0.008823                 front"
      ]
     },
     "execution_count": 333,
     "metadata": {},
     "output_type": "execute_result"
    }
   ],
   "source": [
    "print('Top Features that dictate job title')\n",
    "print('------------------------------------------')\n",
    "feature_imp.sort_values(by = 'coefs', ascending = False).head(20)"
   ]
  },
  {
   "cell_type": "markdown",
   "metadata": {},
   "source": [
    "## Strategy # 2:\n",
    "--------------\n",
    "**What features distinguish seniority** \n",
    "\n",
    "- TARGET DATA : Job Seniority\n",
    "    - Convert Job Seniority into binary\n",
    "    - Senior Job = 1\n",
    "    - Lower Job = 0\n",
    "\n",
    "- Keep same NLP as above. \n",
    "\n",
    "- Perform Smote on seniority to balance classes\n",
    "\n",
    "- Model Selection \n",
    "    - KNN (classification)\n",
    "    - Logistic Regression (Regression)\n",
    "\n",
    "- If a model is good, identify important features via coeficient values"
   ]
  },
  {
   "cell_type": "code",
   "execution_count": 285,
   "metadata": {},
   "outputs": [
    {
     "name": "stdout",
     "output_type": "stream",
     "text": [
      "Number of Columns for mycareersfuture.com : 89525\n"
     ]
    }
   ],
   "source": [
    "# MY CAREERS FUTURE.COM DATAFRAME WITHOUT SENIORITY\n",
    "\n",
    "#Reset all indexes\n",
    "\n",
    "d_trans.reset_index(drop = True, inplace = True)\n",
    "jb_trans.reset_index(drop = True, inplace = True)\n",
    "co_trans.reset_index(drop = True, inplace = True)\n",
    "\n",
    "salaries = df_mcf['mean_salaries_bc']\n",
    "salaries.reset_index(drop = True, inplace = True)\n",
    "\n",
    "#Concatenate all the dataframes\n",
    "new_df = pd.concat([d_trans, jb_trans, co_trans, salaries], axis = 1)\n",
    "print('Number of Columns for mycareersfuture.com : {}'.format(new_df.shape[1]))"
   ]
  },
  {
   "cell_type": "markdown",
   "metadata": {},
   "source": [
    "**Convert Seniority to binary**\n",
    "--"
   ]
  },
  {
   "cell_type": "code",
   "execution_count": 292,
   "metadata": {},
   "outputs": [],
   "source": [
    "df_mcf.reset_index(drop = True, inplace = True)"
   ]
  },
  {
   "cell_type": "code",
   "execution_count": 293,
   "metadata": {},
   "outputs": [],
   "source": [
    "new_df['seniority'] = df_mcf['seniority']"
   ]
  },
  {
   "cell_type": "code",
   "execution_count": 295,
   "metadata": {},
   "outputs": [
    {
     "data": {
      "text/plain": [
       "executive         833\n",
       "senior_manager    487\n",
       "officer           161\n",
       "c_level            75\n",
       "junior             17\n",
       "intern              3\n",
       "Name: seniority, dtype: int64"
      ]
     },
     "execution_count": 295,
     "metadata": {},
     "output_type": "execute_result"
    }
   ],
   "source": [
    "new_df['seniority'].value_counts()"
   ]
  },
  {
   "cell_type": "code",
   "execution_count": 296,
   "metadata": {},
   "outputs": [
    {
     "name": "stdout",
     "output_type": "stream",
     "text": [
      "Senior = 1, Lower = 0\n"
     ]
    },
    {
     "data": {
      "text/plain": [
       "0    1014\n",
       "1     562\n",
       "Name: seniority, dtype: int64"
      ]
     },
     "execution_count": 296,
     "metadata": {},
     "output_type": "execute_result"
    }
   ],
   "source": [
    "for a in ['c_level', 'senior_manager']:\n",
    "    new_df['seniority'] = new_df['seniority'].apply(lambda x: 1 if x==a else x)\n",
    "\n",
    "for a in ['executive','officer', 'junior', 'intern']:\n",
    "    new_df['seniority'] = new_df['seniority'].apply(lambda x: 0 if x==a else x)\n",
    "\n",
    "print('Senior = 1, Lower = 0')\n",
    "new_df['seniority'].value_counts()"
   ]
  },
  {
   "cell_type": "code",
   "execution_count": 297,
   "metadata": {},
   "outputs": [],
   "source": [
    "X = new_df.drop(columns = 'seniority')\n",
    "y = new_df['seniority']\n",
    "\n",
    "X_train, X_test, y_train, y_test = train_test_split(X.values, y.values, test_size = 0.2, random_state = 42)"
   ]
  },
  {
   "cell_type": "markdown",
   "metadata": {},
   "source": [
    "**Balancing Classes Using Smote**\n",
    "---"
   ]
  },
  {
   "cell_type": "code",
   "execution_count": 299,
   "metadata": {},
   "outputs": [],
   "source": [
    "sm = SMOTE(random_state=42)\n",
    "x_res, y_res = sm.fit_sample(X_train, y_train)"
   ]
  },
  {
   "cell_type": "markdown",
   "metadata": {},
   "source": [
    "**K-Nearest Neighbours**\n",
    "---"
   ]
  },
  {
   "cell_type": "code",
   "execution_count": 300,
   "metadata": {},
   "outputs": [
    {
     "name": "stdout",
     "output_type": "stream",
     "text": [
      "Mean accuracy : 0.74 Std accuracy: 0.03\n",
      "confusion matrix  [[104 103]\n",
      " [ 11  98]]\n",
      "Mean accuracy : 0.76 Std accuracy: 0.04\n",
      "confusion matrix  [[119  88]\n",
      " [ 19  90]]\n",
      "Mean accuracy : 0.69 Std accuracy: 0.03\n",
      "confusion matrix  [[ 89 118]\n",
      " [ 11  98]]\n",
      "Mean accuracy : 0.67 Std accuracy: 0.03\n",
      "confusion matrix  [[ 74 133]\n",
      " [  7 102]]\n",
      "Mean accuracy : 0.67 Std accuracy: 0.03\n",
      "confusion matrix  [[ 71 136]\n",
      " [  7 102]]\n",
      "Mean accuracy : 0.66 Std accuracy: 0.02\n",
      "confusion matrix  [[ 71 136]\n",
      " [  7 102]]\n",
      "Mean accuracy : 0.66 Std accuracy: 0.02\n",
      "confusion matrix  [[ 75 132]\n",
      " [  6 103]]\n"
     ]
    }
   ],
   "source": [
    "def model_selection(X, y, xt, yt):\n",
    "    for k in [1,2,4,6,8,10,20]:\n",
    "        mod = KNeighborsClassifier(n_neighbors= k)\n",
    "        scores = cross_val_score(mod, X,y, cv = 5, scoring = 'accuracy')\n",
    "        mod = mod.fit(X,y)\n",
    "        y_pred = mod.predict(xt)\n",
    "        \n",
    "        print('Mean accuracy :', round(np.mean(scores),2), 'Std accuracy:', round(np.std(scores),2))\n",
    "        print('confusion matrix ', confusion_matrix(yt, y_pred))\n",
    "        \n",
    "model_selection(x_res, y_res, X_test, y_test)"
   ]
  },
  {
   "cell_type": "markdown",
   "metadata": {},
   "source": [
    "**Logistic Regression**\n",
    "---"
   ]
  },
  {
   "cell_type": "code",
   "execution_count": 301,
   "metadata": {},
   "outputs": [
    {
     "name": "stdout",
     "output_type": "stream",
     "text": [
      "Mean accuracy : 0.7 Std accuracy: 0.02\n",
      "confusion matrix  [[132  75]\n",
      " [ 43  66]]\n",
      "Mean accuracy : 0.72 Std accuracy: 0.02\n",
      "confusion matrix  [[142  65]\n",
      " [ 40  69]]\n",
      "Mean accuracy : 0.86 Std accuracy: 0.03\n",
      "confusion matrix  [[179  28]\n",
      " [ 23  86]]\n",
      "Mean accuracy : 0.96 Std accuracy: 0.02\n",
      "confusion matrix  [[198   9]\n",
      " [ 11  98]]\n",
      "Mean accuracy : 0.98 Std accuracy: 0.01\n",
      "confusion matrix  [[206   1]\n",
      " [  4 105]]\n",
      "Mean accuracy : 0.98 Std accuracy: 0.01\n",
      "confusion matrix  [[207   0]\n",
      " [  2 107]]\n"
     ]
    }
   ],
   "source": [
    "def model_selection(X, y, xt, yt):\n",
    "    for c in [0.001, 0.01, 0.1, 1, 10, 100]:\n",
    "        mod = LogisticRegression(C = c, solver = 'lbfgs', max_iter = 1000)\n",
    "        scores = cross_val_score(mod, X,y, cv = 5, scoring = 'accuracy')\n",
    "        mod = mod.fit(X,y)\n",
    "        y_pred = mod.predict(xt)\n",
    "        \n",
    "        print('Mean accuracy :', round(np.mean(scores),2), 'Std accuracy:', round(np.std(scores),2))\n",
    "        print('confusion matrix ', confusion_matrix(yt, y_pred))\n",
    "        \n",
    "model_selection(x_res, y_res, X_test, y_test)"
   ]
  },
  {
   "cell_type": "markdown",
   "metadata": {},
   "source": [
    "**Best Model: Logistic Regression**\n",
    "---"
   ]
  },
  {
   "cell_type": "code",
   "execution_count": 304,
   "metadata": {},
   "outputs": [],
   "source": [
    "mod = LogisticRegression(C = 100, solver = 'lbfgs', max_iter = 1000)\n",
    "mod = mod.fit(x_res,y_res)\n",
    "y_pred = mod.predict(X_test)"
   ]
  },
  {
   "cell_type": "code",
   "execution_count": 316,
   "metadata": {},
   "outputs": [
    {
     "data": {
      "text/plain": [
       "array([[207,   0],\n",
       "       [  2, 107]])"
      ]
     },
     "execution_count": 316,
     "metadata": {},
     "output_type": "execute_result"
    }
   ],
   "source": [
    "confusion_matrix(y_test, y_pred)"
   ]
  },
  {
   "cell_type": "code",
   "execution_count": 317,
   "metadata": {},
   "outputs": [
    {
     "data": {
      "text/plain": [
       "0.9907407407407407"
      ]
     },
     "execution_count": 317,
     "metadata": {},
     "output_type": "execute_result"
    }
   ],
   "source": [
    "from sklearn.metrics import f1_score\n",
    "f1_score(y_test, y_pred)"
   ]
  },
  {
   "cell_type": "code",
   "execution_count": 313,
   "metadata": {},
   "outputs": [],
   "source": [
    "## extract coefficients\n",
    "values_log = pd.DataFrame(mod.coef_[0], columns = ['coefs'])\n",
    "values_log['Features'] = X.columns"
   ]
  },
  {
   "cell_type": "code",
   "execution_count": 314,
   "metadata": {},
   "outputs": [
    {
     "name": "stdout",
     "output_type": "stream",
     "text": [
      "Top Features that dictate job seniority positively\n",
      "------------------------------------------\n"
     ]
    },
    {
     "data": {
      "text/html": [
       "<div>\n",
       "<style scoped>\n",
       "    .dataframe tbody tr th:only-of-type {\n",
       "        vertical-align: middle;\n",
       "    }\n",
       "\n",
       "    .dataframe tbody tr th {\n",
       "        vertical-align: top;\n",
       "    }\n",
       "\n",
       "    .dataframe thead th {\n",
       "        text-align: right;\n",
       "    }\n",
       "</style>\n",
       "<table border=\"1\" class=\"dataframe\">\n",
       "  <thead>\n",
       "    <tr style=\"text-align: right;\">\n",
       "      <th></th>\n",
       "      <th>coefs</th>\n",
       "      <th>Features</th>\n",
       "    </tr>\n",
       "  </thead>\n",
       "  <tbody>\n",
       "    <tr>\n",
       "      <th>88384</th>\n",
       "      <td>26.550485</td>\n",
       "      <td>senior</td>\n",
       "    </tr>\n",
       "    <tr>\n",
       "      <th>88082</th>\n",
       "      <td>21.544578</td>\n",
       "      <td>manager</td>\n",
       "    </tr>\n",
       "    <tr>\n",
       "      <th>88042</th>\n",
       "      <td>12.119991</td>\n",
       "      <td>lead</td>\n",
       "    </tr>\n",
       "    <tr>\n",
       "      <th>87713</th>\n",
       "      <td>10.097270</td>\n",
       "      <td>coordinator</td>\n",
       "    </tr>\n",
       "    <tr>\n",
       "      <th>88494</th>\n",
       "      <td>6.746350</td>\n",
       "      <td>sr</td>\n",
       "    </tr>\n",
       "    <tr>\n",
       "      <th>87954</th>\n",
       "      <td>6.584571</td>\n",
       "      <td>head</td>\n",
       "    </tr>\n",
       "    <tr>\n",
       "      <th>87823</th>\n",
       "      <td>4.879248</td>\n",
       "      <td>director</td>\n",
       "    </tr>\n",
       "    <tr>\n",
       "      <th>88429</th>\n",
       "      <td>4.817665</td>\n",
       "      <td>senior software</td>\n",
       "    </tr>\n",
       "    <tr>\n",
       "      <th>87602</th>\n",
       "      <td>4.011917</td>\n",
       "      <td>avp</td>\n",
       "    </tr>\n",
       "    <tr>\n",
       "      <th>88402</th>\n",
       "      <td>3.891508</td>\n",
       "      <td>senior executive</td>\n",
       "    </tr>\n",
       "  </tbody>\n",
       "</table>\n",
       "</div>"
      ],
      "text/plain": [
       "           coefs          Features\n",
       "88384  26.550485            senior\n",
       "88082  21.544578           manager\n",
       "88042  12.119991              lead\n",
       "87713  10.097270       coordinator\n",
       "88494   6.746350                sr\n",
       "87954   6.584571              head\n",
       "87823   4.879248          director\n",
       "88429   4.817665   senior software\n",
       "87602   4.011917               avp\n",
       "88402   3.891508  senior executive"
      ]
     },
     "execution_count": 314,
     "metadata": {},
     "output_type": "execute_result"
    }
   ],
   "source": [
    "print('Top Features that dictate job seniority positively')\n",
    "print('------------------------------------------')\n",
    "values_log.sort_values(by = 'coefs', ascending = False).head(10)"
   ]
  },
  {
   "cell_type": "code",
   "execution_count": 315,
   "metadata": {},
   "outputs": [
    {
     "name": "stdout",
     "output_type": "stream",
     "text": [
      "Top Features that dictate job seniority negatively\n",
      "------------------------------------------\n"
     ]
    },
    {
     "data": {
      "text/html": [
       "<div>\n",
       "<style scoped>\n",
       "    .dataframe tbody tr th:only-of-type {\n",
       "        vertical-align: middle;\n",
       "    }\n",
       "\n",
       "    .dataframe tbody tr th {\n",
       "        vertical-align: top;\n",
       "    }\n",
       "\n",
       "    .dataframe thead th {\n",
       "        text-align: right;\n",
       "    }\n",
       "</style>\n",
       "<table border=\"1\" class=\"dataframe\">\n",
       "  <thead>\n",
       "    <tr style=\"text-align: right;\">\n",
       "      <th></th>\n",
       "      <th>coefs</th>\n",
       "      <th>Features</th>\n",
       "    </tr>\n",
       "  </thead>\n",
       "  <tbody>\n",
       "    <tr>\n",
       "      <th>88629</th>\n",
       "      <td>-2.323404</td>\n",
       "      <td>accenture</td>\n",
       "    </tr>\n",
       "    <tr>\n",
       "      <th>87907</th>\n",
       "      <td>-2.429048</td>\n",
       "      <td>financial controller</td>\n",
       "    </tr>\n",
       "    <tr>\n",
       "      <th>87689</th>\n",
       "      <td>-2.567609</td>\n",
       "      <td>consultant</td>\n",
       "    </tr>\n",
       "    <tr>\n",
       "      <th>87673</th>\n",
       "      <td>-2.692288</td>\n",
       "      <td>cloud</td>\n",
       "    </tr>\n",
       "    <tr>\n",
       "      <th>87811</th>\n",
       "      <td>-3.033048</td>\n",
       "      <td>developer</td>\n",
       "    </tr>\n",
       "    <tr>\n",
       "      <th>87487</th>\n",
       "      <td>-3.131840</td>\n",
       "      <td>accountant</td>\n",
       "    </tr>\n",
       "    <tr>\n",
       "      <th>87561</th>\n",
       "      <td>-3.247494</td>\n",
       "      <td>architect</td>\n",
       "    </tr>\n",
       "    <tr>\n",
       "      <th>87837</th>\n",
       "      <td>-4.531941</td>\n",
       "      <td>engineer</td>\n",
       "    </tr>\n",
       "    <tr>\n",
       "      <th>88480</th>\n",
       "      <td>-4.594651</td>\n",
       "      <td>specialist</td>\n",
       "    </tr>\n",
       "    <tr>\n",
       "      <th>87528</th>\n",
       "      <td>-5.538630</td>\n",
       "      <td>analyst</td>\n",
       "    </tr>\n",
       "  </tbody>\n",
       "</table>\n",
       "</div>"
      ],
      "text/plain": [
       "          coefs              Features\n",
       "88629 -2.323404             accenture\n",
       "87907 -2.429048  financial controller\n",
       "87689 -2.567609            consultant\n",
       "87673 -2.692288                 cloud\n",
       "87811 -3.033048             developer\n",
       "87487 -3.131840            accountant\n",
       "87561 -3.247494             architect\n",
       "87837 -4.531941              engineer\n",
       "88480 -4.594651            specialist\n",
       "87528 -5.538630               analyst"
      ]
     },
     "execution_count": 315,
     "metadata": {},
     "output_type": "execute_result"
    }
   ],
   "source": [
    "print('Top Features that dictate job seniority negatively')\n",
    "print('------------------------------------------')\n",
    "values_log.sort_values(by = 'coefs', ascending = False).tail(10)"
   ]
  }
 ],
 "metadata": {
  "kernelspec": {
   "display_name": "Python 3",
   "language": "python",
   "name": "python3"
  },
  "language_info": {
   "codemirror_mode": {
    "name": "ipython",
    "version": 3
   },
   "file_extension": ".py",
   "mimetype": "text/x-python",
   "name": "python",
   "nbconvert_exporter": "python",
   "pygments_lexer": "ipython3",
   "version": "3.7.3"
  }
 },
 "nbformat": 4,
 "nbformat_minor": 2
}
